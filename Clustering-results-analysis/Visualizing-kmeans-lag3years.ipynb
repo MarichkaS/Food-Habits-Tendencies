{
 "cells": [
  {
   "cell_type": "code",
   "execution_count": 1,
   "metadata": {
    "collapsed": true
   },
   "outputs": [],
   "source": [
    "import vincent\n",
    "import pandas as pd"
   ]
  },
  {
   "cell_type": "code",
   "execution_count": 2,
   "metadata": {},
   "outputs": [
    {
     "data": {
      "text/html": [
       "\n",
       "           <script>\n",
       "               \n",
       "                function vct_load_lib(url, callback){\n",
       "                      if(typeof d3 !== 'undefined' &&\n",
       "                         url === 'http://d3js.org/d3.v3.min.js'){\n",
       "                        callback()\n",
       "                      }\n",
       "                      var s = document.createElement('script');\n",
       "                      s.src = url;\n",
       "                      s.async = true;\n",
       "                      s.onreadystatechange = s.onload = callback;\n",
       "                      s.onerror = function(){\n",
       "                        console.warn(\"failed to load library \" + url);\n",
       "                        };\n",
       "                      document.getElementsByTagName(\"head\")[0].appendChild(s);\n",
       "                };\n",
       "                var vincent_event = new CustomEvent(\n",
       "                  \"vincent_libs_loaded\",\n",
       "                  {bubbles: true, cancelable: true}\n",
       "                );\n",
       "                \n",
       "               function load_all_libs(){\n",
       "                  console.log('Loading Vincent libs...')\n",
       "                  vct_load_lib('http://d3js.org/d3.v3.min.js', function(){\n",
       "                  vct_load_lib('http://d3js.org/d3.geo.projection.v0.min.js', function(){\n",
       "                  vct_load_lib('http://wrobstory.github.io/d3-cloud/d3.layout.cloud.js', function(){\n",
       "                  vct_load_lib('http://wrobstory.github.io/vega/vega.v1.3.3.js', function(){\n",
       "                  window.dispatchEvent(vincent_event);\n",
       "                  });\n",
       "                  });\n",
       "                  });\n",
       "                  });\n",
       "               };\n",
       "               if(typeof define === \"function\" && define.amd){\n",
       "                    if (window['d3'] === undefined ||\n",
       "                        window['topojson'] === undefined){\n",
       "                        require.config(\n",
       "                            {paths: {\n",
       "                              d3: 'http://d3js.org/d3.v3.min',\n",
       "                              topojson: 'http://d3js.org/topojson.v1.min'\n",
       "                              }\n",
       "                            }\n",
       "                          );\n",
       "                        require([\"d3\"], function(d3){\n",
       "                            console.log('Loading Vincent from require.js...')\n",
       "                            window.d3 = d3;\n",
       "                            require([\"topojson\"], function(topojson){\n",
       "                                window.topojson = topojson;\n",
       "                                load_all_libs();\n",
       "                            });\n",
       "                        });\n",
       "                    } else {\n",
       "                        load_all_libs();\n",
       "                    };\n",
       "               }else{\n",
       "                    console.log('Require.js not found, loading manually...')\n",
       "                    load_all_libs();\n",
       "               };\n",
       "\n",
       "           </script>"
      ],
      "text/plain": [
       "<IPython.core.display.HTML object>"
      ]
     },
     "metadata": {},
     "output_type": "display_data"
    }
   ],
   "source": [
    "vincent.core.initialize_notebook()"
   ]
  },
  {
   "cell_type": "code",
   "execution_count": 3,
   "metadata": {
    "collapsed": true
   },
   "outputs": [],
   "source": [
    "def vis_clusters(df):\n",
    "    world_topo = r'https://raw.githubusercontent.com/wrobstory/vincent_map_data/master/world-countries.topo.json'\n",
    "    geo_data = [{'name': 'countries',\n",
    "                 'url': world_topo,\n",
    "                 'feature': 'world-countries'},\n",
    "               {'name': 'countries_outline',\n",
    "                 'url': world_topo,\n",
    "                 'feature': 'world-countries'}]\n",
    "\n",
    "    vis = vincent.Map(data=df, \n",
    "                      geo_data=geo_data, \n",
    "                      scale=200, \n",
    "                      data_bind='cluster', \n",
    "                      data_key='COUNTRY',\n",
    "                      map_key={'countries': 'id'},\n",
    "                      brew='Spectral')\n",
    "    vis.scales['color'].domain = [0, 1, 2, 3, 4]\n",
    "    del vis.marks[1].properties.update\n",
    "    vis.marks[1].properties.enter.stroke.value = '#000'\n",
    "\n",
    "    vis.display()"
   ]
  },
  {
   "cell_type": "code",
   "execution_count": 4,
   "metadata": {
    "collapsed": true
   },
   "outputs": [],
   "source": [
    "DATA_FOLDER = '../data/clustering-results-kmeans/'\n",
    "DATA_FILE = 'Data{}_{}.csv'\n",
    "CLUSTERS_FILE = 'Clusters{}_{}.csv'\n",
    "YEAR = 1995\n",
    "\n",
    "clusters_file = DATA_FOLDER + CLUSTERS_FILE.format(YEAR - 2, YEAR)\n",
    "\n",
    "data = pd.read_csv(clusters_file)"
   ]
  },
  {
   "cell_type": "code",
   "execution_count": 5,
   "metadata": {},
   "outputs": [
    {
     "data": {
      "text/html": [
       "<div id=\"visbac54a17a910470db2487d8ae40e1892\"></div>\n",
       "<script>\n",
       "   ( function() {\n",
       "     var _do_plot = function() {\n",
       "       if (typeof vg === 'undefined') {\n",
       "         window.addEventListener('vincent_libs_loaded', _do_plot)\n",
       "         return;\n",
       "       }\n",
       "       vg.parse.spec({\"axes\": [], \"data\": [{\"name\": \"table\", \"values\": [{\"x\": \"ARG\", \"y\": 5}, {\"x\": \"AUS\", \"y\": 5}, {\"x\": \"BGD\", \"y\": 4}, {\"x\": \"BRA\", \"y\": 2}, {\"x\": \"CAN\", \"y\": 5}, {\"x\": \"CHL\", \"y\": 5}, {\"x\": \"CHN\", \"y\": 2}, {\"x\": \"COL\", \"y\": 2}, {\"x\": \"DZA\", \"y\": 1}, {\"x\": \"EGY\", \"y\": 1}, {\"x\": \"ETH\", \"y\": 0}, {\"x\": \"EUN\", \"y\": 5}, {\"x\": \"GHA\", \"y\": 0}, {\"x\": \"HTI\", \"y\": 2}, {\"x\": \"IDN\", \"y\": 4}, {\"x\": \"IND\", \"y\": 2}, {\"x\": \"IRN\", \"y\": 1}, {\"x\": \"ISR\", \"y\": 2}, {\"x\": \"JPN\", \"y\": 2}, {\"x\": \"KAZ\", \"y\": 3}, {\"x\": \"KOR\", \"y\": 4}, {\"x\": \"MEX\", \"y\": 0}, {\"x\": \"MOZ\", \"y\": 0}, {\"x\": \"MYS\", \"y\": 4}, {\"x\": \"NGA\", \"y\": 0}, {\"x\": \"NZL\", \"y\": 2}, {\"x\": \"PAK\", \"y\": 5}, {\"x\": \"PER\", \"y\": 2}, {\"x\": \"PHL\", \"y\": 4}, {\"x\": \"PRY\", \"y\": 2}, {\"x\": \"RUS\", \"y\": 5}, {\"x\": \"SAU\", \"y\": 2}, {\"x\": \"SDN\", \"y\": 2}, {\"x\": \"THA\", \"y\": 4}, {\"x\": \"TUR\", \"y\": 1}, {\"x\": \"TZA\", \"y\": 0}, {\"x\": \"UKR\", \"y\": 3}, {\"x\": \"URY\", \"y\": 3}, {\"x\": \"USA\", \"y\": 5}, {\"x\": \"VNM\", \"y\": 4}, {\"x\": \"ZAF\", \"y\": 0}, {\"x\": \"ZMB\", \"y\": 0}]}, {\"format\": {\"feature\": \"world-countries\", \"type\": \"topojson\"}, \"name\": \"countries\", \"transform\": [{\"as\": \"value\", \"default\": \"noval\", \"key\": \"data.id\", \"type\": \"zip\", \"with\": \"table\", \"withKey\": \"data.x\"}, {\"test\": \"d.path!='noval' && d.value!='noval'\", \"type\": \"filter\"}, {\"projection\": \"winkel3\", \"scale\": 200, \"translate\": [480.0, 250.0], \"type\": \"geopath\", \"value\": \"data\"}], \"url\": \"https://raw.githubusercontent.com/wrobstory/vincent_map_data/master/world-countries.topo.json\"}, {\"format\": {\"feature\": \"world-countries\", \"type\": \"topojson\"}, \"name\": \"countries_outline\", \"transform\": [{\"projection\": \"winkel3\", \"scale\": 200, \"translate\": [480.0, 250.0], \"type\": \"geopath\", \"value\": \"data\"}], \"url\": \"https://raw.githubusercontent.com/wrobstory/vincent_map_data/master/world-countries.topo.json\"}], \"height\": 500, \"legends\": [], \"marks\": [{\"from\": {\"data\": \"countries\"}, \"properties\": {\"enter\": {\"path\": {\"field\": \"path\"}, \"stroke\": {\"value\": \"#000000\"}}, \"update\": {\"fill\": {\"field\": \"value.data.y\", \"scale\": \"color\"}}}, \"type\": \"path\"}, {\"from\": {\"data\": \"countries_outline\"}, \"properties\": {\"enter\": {\"path\": {\"field\": \"path\"}, \"stroke\": {\"value\": \"#000\"}}}, \"type\": \"path\"}], \"padding\": \"auto\", \"scales\": [{\"domain\": [0, 1, 2, 3, 4], \"name\": \"color\", \"range\": [\"#9e0142\", \"#d53e4f\", \"#f46d43\", \"#fdae61\", \"#fee08b\", \"#ffffbf\", \"#e6f598\", \"#abdda4\", \"#66c2a5\", \"#3288bd\", \"#5e4fa2\"], \"type\": \"quantize\"}], \"width\": 960}, function(chart) {\n",
       "         chart({el: \"#visbac54a17a910470db2487d8ae40e1892\"}).update();\n",
       "       });\n",
       "     };\n",
       "     _do_plot();\n",
       "   })();\n",
       "</script>\n",
       "<style>.vega canvas {width: 100%;}</style>\n",
       "        "
      ],
      "text/plain": [
       "<IPython.core.display.HTML object>"
      ]
     },
     "metadata": {},
     "output_type": "display_data"
    },
    {
     "name": "stdout",
     "output_type": "stream",
     "text": [
      "None\n"
     ]
    }
   ],
   "source": [
    "print(vis_clusters(data))"
   ]
  },
  {
   "cell_type": "code",
   "execution_count": null,
   "metadata": {
    "collapsed": true
   },
   "outputs": [],
   "source": []
  }
 ],
 "metadata": {
  "kernelspec": {
   "display_name": "Python 3",
   "language": "python",
   "name": "python3"
  },
  "language_info": {
   "codemirror_mode": {
    "name": "ipython",
    "version": 3
   },
   "file_extension": ".py",
   "mimetype": "text/x-python",
   "name": "python",
   "nbconvert_exporter": "python",
   "pygments_lexer": "ipython3",
   "version": "3.6.2"
  }
 },
 "nbformat": 4,
 "nbformat_minor": 2
}

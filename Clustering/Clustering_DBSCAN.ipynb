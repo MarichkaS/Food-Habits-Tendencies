{
 "cells": [
  {
   "cell_type": "code",
   "execution_count": 2,
   "metadata": {
    "collapsed": true
   },
   "outputs": [],
   "source": [
    "import os\n",
    "import pandas as pd\n",
    "from sklearn.cluster import DBSCAN\n",
    "from sklearn.cluster import KMeans\n",
    "from sklearn.ensemble import IsolationForest\n",
    "import vincent"
   ]
  },
  {
   "cell_type": "code",
   "execution_count": 3,
   "metadata": {},
   "outputs": [
    {
     "data": {
      "text/html": [
       "\n",
       "           <script>\n",
       "               \n",
       "                function vct_load_lib(url, callback){\n",
       "                      if(typeof d3 !== 'undefined' &&\n",
       "                         url === 'http://d3js.org/d3.v3.min.js'){\n",
       "                        callback()\n",
       "                      }\n",
       "                      var s = document.createElement('script');\n",
       "                      s.src = url;\n",
       "                      s.async = true;\n",
       "                      s.onreadystatechange = s.onload = callback;\n",
       "                      s.onerror = function(){\n",
       "                        console.warn(\"failed to load library \" + url);\n",
       "                        };\n",
       "                      document.getElementsByTagName(\"head\")[0].appendChild(s);\n",
       "                };\n",
       "                var vincent_event = new CustomEvent(\n",
       "                  \"vincent_libs_loaded\",\n",
       "                  {bubbles: true, cancelable: true}\n",
       "                );\n",
       "                \n",
       "               function load_all_libs(){\n",
       "                  console.log('Loading Vincent libs...')\n",
       "                  vct_load_lib('http://d3js.org/d3.v3.min.js', function(){\n",
       "                  vct_load_lib('http://d3js.org/d3.geo.projection.v0.min.js', function(){\n",
       "                  vct_load_lib('http://wrobstory.github.io/d3-cloud/d3.layout.cloud.js', function(){\n",
       "                  vct_load_lib('http://wrobstory.github.io/vega/vega.v1.3.3.js', function(){\n",
       "                  window.dispatchEvent(vincent_event);\n",
       "                  });\n",
       "                  });\n",
       "                  });\n",
       "                  });\n",
       "               };\n",
       "               if(typeof define === \"function\" && define.amd){\n",
       "                    if (window['d3'] === undefined ||\n",
       "                        window['topojson'] === undefined){\n",
       "                        require.config(\n",
       "                            {paths: {\n",
       "                              d3: 'http://d3js.org/d3.v3.min',\n",
       "                              topojson: 'http://d3js.org/topojson.v1.min'\n",
       "                              }\n",
       "                            }\n",
       "                          );\n",
       "                        require([\"d3\"], function(d3){\n",
       "                            console.log('Loading Vincent from require.js...')\n",
       "                            window.d3 = d3;\n",
       "                            require([\"topojson\"], function(topojson){\n",
       "                                window.topojson = topojson;\n",
       "                                load_all_libs();\n",
       "                            });\n",
       "                        });\n",
       "                    } else {\n",
       "                        load_all_libs();\n",
       "                    };\n",
       "               }else{\n",
       "                    console.log('Require.js not found, loading manually...')\n",
       "                    load_all_libs();\n",
       "               };\n",
       "\n",
       "           </script>"
      ],
      "text/plain": [
       "<IPython.core.display.HTML object>"
      ]
     },
     "metadata": {},
     "output_type": "display_data"
    }
   ],
   "source": [
    "vincent.core.initialize_notebook()"
   ]
  },
  {
   "cell_type": "code",
   "execution_count": 4,
   "metadata": {
    "collapsed": true
   },
   "outputs": [],
   "source": [
    "countries = ['ARG', 'AUS', 'BGD', 'BRA', 'CAN', 'CHL', 'CHN', 'COL', 'DZA', 'EGY', 'ETH', 'EUN', 'GHA', 'HTI', 'IDN', 'IND', 'IRN', 'ISR', 'JPN', 'KAZ', 'KOR', 'MEX', 'MOZ', 'MYS', 'NGA', 'NZL', 'PAK', 'PER', 'PHL', 'PRY', 'RUS', 'SAU', 'SDN', 'THA', 'TUR', 'TZA', 'UKR', 'URY', 'USA', 'VNM', 'ZAF', 'ZMB']"
   ]
  },
  {
   "cell_type": "code",
   "execution_count": 5,
   "metadata": {
    "collapsed": true
   },
   "outputs": [],
   "source": [
    "df = pd.read_csv(\"big_df.csv\")\n",
    "countries = df[\"Unnamed: 0\"]\n",
    "del df[\"Unnamed: 0\"]"
   ]
  },
  {
   "cell_type": "code",
   "execution_count": 6,
   "metadata": {
    "collapsed": true
   },
   "outputs": [],
   "source": [
    "df = (df - df.mean()) / (df.max() - df.min())"
   ]
  },
  {
   "cell_type": "code",
   "execution_count": 7,
   "metadata": {
    "collapsed": true
   },
   "outputs": [],
   "source": [
    "def predict_clusters(df, clusterize):\n",
    "    global countries\n",
    "    clusterize.fit(df)\n",
    "    y = clusterize.labels_ \n",
    "    data = pd.DataFrame()\n",
    "    data['COUNTRY'] = countries\n",
    "    data['cluster'] = pd.Series(y)\n",
    "    return data"
   ]
  },
  {
   "cell_type": "code",
   "execution_count": 8,
   "metadata": {
    "collapsed": true
   },
   "outputs": [],
   "source": [
    "def vis_clusters(df):\n",
    "    world_topo = r'https://raw.githubusercontent.com/wrobstory/vincent_map_data/master/world-countries.topo.json'\n",
    "    geo_data = [{'name': 'countries',\n",
    "                 'url': world_topo,\n",
    "                 'feature': 'world-countries'},\n",
    "               {'name': 'countries_outline',\n",
    "                 'url': world_topo,\n",
    "                 'feature': 'world-countries'}]\n",
    "\n",
    "    vis = vincent.Map(data=df, \n",
    "                      geo_data=geo_data, \n",
    "                      scale=200, \n",
    "                      data_bind='cluster', \n",
    "                      data_key='COUNTRY',\n",
    "                      map_key={'countries': 'id'},\n",
    "                      brew='Spectral')\n",
    "    vis.scales['color'].domain =  list(pd.unique(df.cluster))\n",
    "    del vis.marks[1].properties.update\n",
    "    vis.marks[1].properties.enter.stroke.value = '#000'\n",
    "    \n",
    "    vis.display()"
   ]
  },
  {
   "cell_type": "code",
   "execution_count": 11,
   "metadata": {
    "scrolled": false
   },
   "outputs": [
    {
     "name": "stdout",
     "output_type": "stream",
     "text": [
      "[10, 11, 0, 1, 16, -1, 12, 2, 3, 4, 5, 6, 7, 13, 8, 9, 17, 14, 15]\n"
     ]
    },
    {
     "data": {
      "text/html": [
       "<div id=\"vis7dca2ea0e1b14ccf905d26ebcfefbe5e\"></div>\n",
       "<script>\n",
       "   ( function() {\n",
       "     var _do_plot = function() {\n",
       "       if (typeof vg === 'undefined') {\n",
       "         window.addEventListener('vincent_libs_loaded', _do_plot)\n",
       "         return;\n",
       "       }\n",
       "       vg.parse.spec({\"axes\": [], \"data\": [{\"name\": \"table\", \"values\": [{\"x\": \"ARG\", \"y\": 10}, {\"x\": \"AUS\", \"y\": 11}, {\"x\": \"BGD\", \"y\": 0}, {\"x\": \"BRA\", \"y\": 1}, {\"x\": \"CAN\", \"y\": 16}, {\"x\": \"CHL\", \"y\": -1}, {\"x\": \"CHN\", \"y\": 12}, {\"x\": \"COL\", \"y\": 2}, {\"x\": \"DZA\", \"y\": 3}, {\"x\": \"EGY\", \"y\": -1}, {\"x\": \"ETH\", \"y\": 4}, {\"x\": \"EUN\", \"y\": 5}, {\"x\": \"GHA\", \"y\": 4}, {\"x\": \"HTI\", \"y\": 6}, {\"x\": \"IDN\", \"y\": 0}, {\"x\": \"IND\", \"y\": 7}, {\"x\": \"IRN\", \"y\": 3}, {\"x\": \"ISR\", \"y\": 13}, {\"x\": \"JPN\", \"y\": 8}, {\"x\": \"KAZ\", \"y\": -1}, {\"x\": \"KOR\", \"y\": 8}, {\"x\": \"MEX\", \"y\": 9}, {\"x\": \"MOZ\", \"y\": 4}, {\"x\": \"MYS\", \"y\": -1}, {\"x\": \"NGA\", \"y\": 4}, {\"x\": \"NZL\", \"y\": -1}, {\"x\": \"PAK\", \"y\": 17}, {\"x\": \"PER\", \"y\": 2}, {\"x\": \"PHL\", \"y\": 0}, {\"x\": \"PRY\", \"y\": -1}, {\"x\": \"RUS\", \"y\": 14}, {\"x\": \"SAU\", \"y\": -1}, {\"x\": \"SDN\", \"y\": 6}, {\"x\": \"THA\", \"y\": 0}, {\"x\": \"TUR\", \"y\": 3}, {\"x\": \"TZA\", \"y\": 4}, {\"x\": \"UKR\", \"y\": -1}, {\"x\": \"URY\", \"y\": -1}, {\"x\": \"USA\", \"y\": 15}, {\"x\": \"VNM\", \"y\": 0}, {\"x\": \"ZAF\", \"y\": -1}, {\"x\": \"ZMB\", \"y\": 4}]}, {\"format\": {\"feature\": \"world-countries\", \"type\": \"topojson\"}, \"name\": \"countries\", \"transform\": [{\"as\": \"value\", \"default\": \"noval\", \"key\": \"data.id\", \"type\": \"zip\", \"with\": \"table\", \"withKey\": \"data.x\"}, {\"test\": \"d.path!='noval' && d.value!='noval'\", \"type\": \"filter\"}, {\"projection\": \"winkel3\", \"scale\": 200, \"translate\": [480, 250], \"type\": \"geopath\", \"value\": \"data\"}], \"url\": \"https://raw.githubusercontent.com/wrobstory/vincent_map_data/master/world-countries.topo.json\"}, {\"format\": {\"feature\": \"world-countries\", \"type\": \"topojson\"}, \"name\": \"countries_outline\", \"transform\": [{\"projection\": \"winkel3\", \"scale\": 200, \"translate\": [480, 250], \"type\": \"geopath\", \"value\": \"data\"}], \"url\": \"https://raw.githubusercontent.com/wrobstory/vincent_map_data/master/world-countries.topo.json\"}], \"height\": 500, \"legends\": [], \"marks\": [{\"from\": {\"data\": \"countries\"}, \"properties\": {\"enter\": {\"path\": {\"field\": \"path\"}, \"stroke\": {\"value\": \"#000000\"}}, \"update\": {\"fill\": {\"field\": \"value.data.y\", \"scale\": \"color\"}}}, \"type\": \"path\"}, {\"from\": {\"data\": \"countries_outline\"}, \"properties\": {\"enter\": {\"path\": {\"field\": \"path\"}, \"stroke\": {\"value\": \"#000\"}}}, \"type\": \"path\"}], \"padding\": \"auto\", \"scales\": [{\"domain\": [10, 11, 0, 1, 16, -1, 12, 2, 3, 4, 5, 6, 7, 13, 8, 9, 17, 14, 15], \"name\": \"color\", \"range\": [\"#9e0142\", \"#d53e4f\", \"#f46d43\", \"#fdae61\", \"#fee08b\", \"#ffffbf\", \"#e6f598\", \"#abdda4\", \"#66c2a5\", \"#3288bd\", \"#5e4fa2\"], \"type\": \"quantize\"}], \"width\": 960}, function(chart) {\n",
       "         chart({el: \"#vis7dca2ea0e1b14ccf905d26ebcfefbe5e\"}).update();\n",
       "       });\n",
       "     };\n",
       "     _do_plot();\n",
       "   })();\n",
       "</script>\n",
       "<style>.vega canvas {width: 100%;}</style>\n",
       "        "
      ],
      "text/plain": [
       "<IPython.core.display.HTML object>"
      ]
     },
     "metadata": {},
     "output_type": "display_data"
    },
    {
     "name": "stdout",
     "output_type": "stream",
     "text": [
      "[10, 11, 0, 1, 16, -1, 12, 2, 3, 4, 5, 6, 7, 13, 8, 9, 17, 14, 15]\n"
     ]
    },
    {
     "data": {
      "text/html": [
       "<div id=\"vised57e4c485014cd1a862ea09df69a095\"></div>\n",
       "<script>\n",
       "   ( function() {\n",
       "     var _do_plot = function() {\n",
       "       if (typeof vg === 'undefined') {\n",
       "         window.addEventListener('vincent_libs_loaded', _do_plot)\n",
       "         return;\n",
       "       }\n",
       "       vg.parse.spec({\"axes\": [], \"data\": [{\"name\": \"table\", \"values\": [{\"x\": \"ARG\", \"y\": 10}, {\"x\": \"AUS\", \"y\": 11}, {\"x\": \"BGD\", \"y\": 0}, {\"x\": \"BRA\", \"y\": 1}, {\"x\": \"CAN\", \"y\": 16}, {\"x\": \"CHL\", \"y\": -1}, {\"x\": \"CHN\", \"y\": 12}, {\"x\": \"COL\", \"y\": 2}, {\"x\": \"DZA\", \"y\": 3}, {\"x\": \"EGY\", \"y\": -1}, {\"x\": \"ETH\", \"y\": 4}, {\"x\": \"EUN\", \"y\": 5}, {\"x\": \"GHA\", \"y\": 4}, {\"x\": \"HTI\", \"y\": 6}, {\"x\": \"IDN\", \"y\": 0}, {\"x\": \"IND\", \"y\": 7}, {\"x\": \"IRN\", \"y\": 3}, {\"x\": \"ISR\", \"y\": 13}, {\"x\": \"JPN\", \"y\": 8}, {\"x\": \"KAZ\", \"y\": -1}, {\"x\": \"KOR\", \"y\": 8}, {\"x\": \"MEX\", \"y\": 9}, {\"x\": \"MOZ\", \"y\": 4}, {\"x\": \"MYS\", \"y\": -1}, {\"x\": \"NGA\", \"y\": 4}, {\"x\": \"NZL\", \"y\": -1}, {\"x\": \"PAK\", \"y\": 17}, {\"x\": \"PER\", \"y\": 2}, {\"x\": \"PHL\", \"y\": 0}, {\"x\": \"PRY\", \"y\": -1}, {\"x\": \"RUS\", \"y\": 14}, {\"x\": \"SAU\", \"y\": -1}, {\"x\": \"SDN\", \"y\": 6}, {\"x\": \"THA\", \"y\": 0}, {\"x\": \"TUR\", \"y\": 3}, {\"x\": \"TZA\", \"y\": 4}, {\"x\": \"UKR\", \"y\": -1}, {\"x\": \"URY\", \"y\": -1}, {\"x\": \"USA\", \"y\": 15}, {\"x\": \"VNM\", \"y\": 0}, {\"x\": \"ZAF\", \"y\": -1}, {\"x\": \"ZMB\", \"y\": 4}]}, {\"format\": {\"feature\": \"world-countries\", \"type\": \"topojson\"}, \"name\": \"countries\", \"transform\": [{\"as\": \"value\", \"default\": \"noval\", \"key\": \"data.id\", \"type\": \"zip\", \"with\": \"table\", \"withKey\": \"data.x\"}, {\"test\": \"d.path!='noval' && d.value!='noval'\", \"type\": \"filter\"}, {\"projection\": \"winkel3\", \"scale\": 200, \"translate\": [480, 250], \"type\": \"geopath\", \"value\": \"data\"}], \"url\": \"https://raw.githubusercontent.com/wrobstory/vincent_map_data/master/world-countries.topo.json\"}, {\"format\": {\"feature\": \"world-countries\", \"type\": \"topojson\"}, \"name\": \"countries_outline\", \"transform\": [{\"projection\": \"winkel3\", \"scale\": 200, \"translate\": [480, 250], \"type\": \"geopath\", \"value\": \"data\"}], \"url\": \"https://raw.githubusercontent.com/wrobstory/vincent_map_data/master/world-countries.topo.json\"}], \"height\": 500, \"legends\": [], \"marks\": [{\"from\": {\"data\": \"countries\"}, \"properties\": {\"enter\": {\"path\": {\"field\": \"path\"}, \"stroke\": {\"value\": \"#000000\"}}, \"update\": {\"fill\": {\"field\": \"value.data.y\", \"scale\": \"color\"}}}, \"type\": \"path\"}, {\"from\": {\"data\": \"countries_outline\"}, \"properties\": {\"enter\": {\"path\": {\"field\": \"path\"}, \"stroke\": {\"value\": \"#000\"}}}, \"type\": \"path\"}], \"padding\": \"auto\", \"scales\": [{\"domain\": [10, 11, 0, 1, 16, -1, 12, 2, 3, 4, 5, 6, 7, 13, 8, 9, 17, 14, 15], \"name\": \"color\", \"range\": [\"#9e0142\", \"#d53e4f\", \"#f46d43\", \"#fdae61\", \"#fee08b\", \"#ffffbf\", \"#e6f598\", \"#abdda4\", \"#66c2a5\", \"#3288bd\", \"#5e4fa2\"], \"type\": \"quantize\"}], \"width\": 960}, function(chart) {\n",
       "         chart({el: \"#vised57e4c485014cd1a862ea09df69a095\"}).update();\n",
       "       });\n",
       "     };\n",
       "     _do_plot();\n",
       "   })();\n",
       "</script>\n",
       "<style>.vega canvas {width: 100%;}</style>\n",
       "        "
      ],
      "text/plain": [
       "<IPython.core.display.HTML object>"
      ]
     },
     "metadata": {},
     "output_type": "display_data"
    },
    {
     "name": "stdout",
     "output_type": "stream",
     "text": [
      "[10, 11, 0, 1, 16, -1, 12, 2, 3, 4, 5, 6, 7, 13, 8, 9, 17, 14, 15]\n"
     ]
    },
    {
     "data": {
      "text/html": [
       "<div id=\"vis9f0259362ccc4dc48fbcdc15920abc2e\"></div>\n",
       "<script>\n",
       "   ( function() {\n",
       "     var _do_plot = function() {\n",
       "       if (typeof vg === 'undefined') {\n",
       "         window.addEventListener('vincent_libs_loaded', _do_plot)\n",
       "         return;\n",
       "       }\n",
       "       vg.parse.spec({\"axes\": [], \"data\": [{\"name\": \"table\", \"values\": [{\"x\": \"ARG\", \"y\": 10}, {\"x\": \"AUS\", \"y\": 11}, {\"x\": \"BGD\", \"y\": 0}, {\"x\": \"BRA\", \"y\": 1}, {\"x\": \"CAN\", \"y\": 16}, {\"x\": \"CHL\", \"y\": -1}, {\"x\": \"CHN\", \"y\": 12}, {\"x\": \"COL\", \"y\": 2}, {\"x\": \"DZA\", \"y\": 3}, {\"x\": \"EGY\", \"y\": -1}, {\"x\": \"ETH\", \"y\": 4}, {\"x\": \"EUN\", \"y\": 5}, {\"x\": \"GHA\", \"y\": 4}, {\"x\": \"HTI\", \"y\": 6}, {\"x\": \"IDN\", \"y\": 0}, {\"x\": \"IND\", \"y\": 7}, {\"x\": \"IRN\", \"y\": 3}, {\"x\": \"ISR\", \"y\": 13}, {\"x\": \"JPN\", \"y\": 8}, {\"x\": \"KAZ\", \"y\": -1}, {\"x\": \"KOR\", \"y\": 8}, {\"x\": \"MEX\", \"y\": 9}, {\"x\": \"MOZ\", \"y\": 4}, {\"x\": \"MYS\", \"y\": -1}, {\"x\": \"NGA\", \"y\": 4}, {\"x\": \"NZL\", \"y\": -1}, {\"x\": \"PAK\", \"y\": 17}, {\"x\": \"PER\", \"y\": 2}, {\"x\": \"PHL\", \"y\": 0}, {\"x\": \"PRY\", \"y\": -1}, {\"x\": \"RUS\", \"y\": 14}, {\"x\": \"SAU\", \"y\": -1}, {\"x\": \"SDN\", \"y\": 6}, {\"x\": \"THA\", \"y\": 0}, {\"x\": \"TUR\", \"y\": 3}, {\"x\": \"TZA\", \"y\": 4}, {\"x\": \"UKR\", \"y\": -1}, {\"x\": \"URY\", \"y\": -1}, {\"x\": \"USA\", \"y\": 15}, {\"x\": \"VNM\", \"y\": 0}, {\"x\": \"ZAF\", \"y\": -1}, {\"x\": \"ZMB\", \"y\": 4}]}, {\"format\": {\"feature\": \"world-countries\", \"type\": \"topojson\"}, \"name\": \"countries\", \"transform\": [{\"as\": \"value\", \"default\": \"noval\", \"key\": \"data.id\", \"type\": \"zip\", \"with\": \"table\", \"withKey\": \"data.x\"}, {\"test\": \"d.path!='noval' && d.value!='noval'\", \"type\": \"filter\"}, {\"projection\": \"winkel3\", \"scale\": 200, \"translate\": [480, 250], \"type\": \"geopath\", \"value\": \"data\"}], \"url\": \"https://raw.githubusercontent.com/wrobstory/vincent_map_data/master/world-countries.topo.json\"}, {\"format\": {\"feature\": \"world-countries\", \"type\": \"topojson\"}, \"name\": \"countries_outline\", \"transform\": [{\"projection\": \"winkel3\", \"scale\": 200, \"translate\": [480, 250], \"type\": \"geopath\", \"value\": \"data\"}], \"url\": \"https://raw.githubusercontent.com/wrobstory/vincent_map_data/master/world-countries.topo.json\"}], \"height\": 500, \"legends\": [], \"marks\": [{\"from\": {\"data\": \"countries\"}, \"properties\": {\"enter\": {\"path\": {\"field\": \"path\"}, \"stroke\": {\"value\": \"#000000\"}}, \"update\": {\"fill\": {\"field\": \"value.data.y\", \"scale\": \"color\"}}}, \"type\": \"path\"}, {\"from\": {\"data\": \"countries_outline\"}, \"properties\": {\"enter\": {\"path\": {\"field\": \"path\"}, \"stroke\": {\"value\": \"#000\"}}}, \"type\": \"path\"}], \"padding\": \"auto\", \"scales\": [{\"domain\": [10, 11, 0, 1, 16, -1, 12, 2, 3, 4, 5, 6, 7, 13, 8, 9, 17, 14, 15], \"name\": \"color\", \"range\": [\"#9e0142\", \"#d53e4f\", \"#f46d43\", \"#fdae61\", \"#fee08b\", \"#ffffbf\", \"#e6f598\", \"#abdda4\", \"#66c2a5\", \"#3288bd\", \"#5e4fa2\"], \"type\": \"quantize\"}], \"width\": 960}, function(chart) {\n",
       "         chart({el: \"#vis9f0259362ccc4dc48fbcdc15920abc2e\"}).update();\n",
       "       });\n",
       "     };\n",
       "     _do_plot();\n",
       "   })();\n",
       "</script>\n",
       "<style>.vega canvas {width: 100%;}</style>\n",
       "        "
      ],
      "text/plain": [
       "<IPython.core.display.HTML object>"
      ]
     },
     "metadata": {},
     "output_type": "display_data"
    },
    {
     "name": "stdout",
     "output_type": "stream",
     "text": [
      "[10, 11, 0, 1, 16, -1, 12, 3, 18, 4, 5, 6, 7, 13, 8, 19, 9, 17, 23, 14, 20, 15, 21]\n"
     ]
    },
    {
     "data": {
      "text/html": [
       "<div id=\"vis05982f950aa04622bede9f8919662126\"></div>\n",
       "<script>\n",
       "   ( function() {\n",
       "     var _do_plot = function() {\n",
       "       if (typeof vg === 'undefined') {\n",
       "         window.addEventListener('vincent_libs_loaded', _do_plot)\n",
       "         return;\n",
       "       }\n",
       "       vg.parse.spec({\"axes\": [], \"data\": [{\"name\": \"table\", \"values\": [{\"x\": \"ARG\", \"y\": 10}, {\"x\": \"AUS\", \"y\": 11}, {\"x\": \"BGD\", \"y\": 0}, {\"x\": \"BRA\", \"y\": 1}, {\"x\": \"CAN\", \"y\": 16}, {\"x\": \"CHL\", \"y\": -1}, {\"x\": \"CHN\", \"y\": 12}, {\"x\": \"COL\", \"y\": 1}, {\"x\": \"DZA\", \"y\": 3}, {\"x\": \"EGY\", \"y\": 18}, {\"x\": \"ETH\", \"y\": 4}, {\"x\": \"EUN\", \"y\": 5}, {\"x\": \"GHA\", \"y\": 4}, {\"x\": \"HTI\", \"y\": 6}, {\"x\": \"IDN\", \"y\": 0}, {\"x\": \"IND\", \"y\": 7}, {\"x\": \"IRN\", \"y\": 3}, {\"x\": \"ISR\", \"y\": 13}, {\"x\": \"JPN\", \"y\": 8}, {\"x\": \"KAZ\", \"y\": 19}, {\"x\": \"KOR\", \"y\": 8}, {\"x\": \"MEX\", \"y\": 9}, {\"x\": \"MOZ\", \"y\": 4}, {\"x\": \"MYS\", \"y\": -1}, {\"x\": \"NGA\", \"y\": 4}, {\"x\": \"NZL\", \"y\": -1}, {\"x\": \"PAK\", \"y\": 17}, {\"x\": \"PER\", \"y\": 1}, {\"x\": \"PHL\", \"y\": 0}, {\"x\": \"PRY\", \"y\": 23}, {\"x\": \"RUS\", \"y\": 14}, {\"x\": \"SAU\", \"y\": 20}, {\"x\": \"SDN\", \"y\": 6}, {\"x\": \"THA\", \"y\": 0}, {\"x\": \"TUR\", \"y\": 3}, {\"x\": \"TZA\", \"y\": 4}, {\"x\": \"UKR\", \"y\": 14}, {\"x\": \"URY\", \"y\": -1}, {\"x\": \"USA\", \"y\": 15}, {\"x\": \"VNM\", \"y\": 0}, {\"x\": \"ZAF\", \"y\": 21}, {\"x\": \"ZMB\", \"y\": 4}]}, {\"format\": {\"feature\": \"world-countries\", \"type\": \"topojson\"}, \"name\": \"countries\", \"transform\": [{\"as\": \"value\", \"default\": \"noval\", \"key\": \"data.id\", \"type\": \"zip\", \"with\": \"table\", \"withKey\": \"data.x\"}, {\"test\": \"d.path!='noval' && d.value!='noval'\", \"type\": \"filter\"}, {\"projection\": \"winkel3\", \"scale\": 200, \"translate\": [480, 250], \"type\": \"geopath\", \"value\": \"data\"}], \"url\": \"https://raw.githubusercontent.com/wrobstory/vincent_map_data/master/world-countries.topo.json\"}, {\"format\": {\"feature\": \"world-countries\", \"type\": \"topojson\"}, \"name\": \"countries_outline\", \"transform\": [{\"projection\": \"winkel3\", \"scale\": 200, \"translate\": [480, 250], \"type\": \"geopath\", \"value\": \"data\"}], \"url\": \"https://raw.githubusercontent.com/wrobstory/vincent_map_data/master/world-countries.topo.json\"}], \"height\": 500, \"legends\": [], \"marks\": [{\"from\": {\"data\": \"countries\"}, \"properties\": {\"enter\": {\"path\": {\"field\": \"path\"}, \"stroke\": {\"value\": \"#000000\"}}, \"update\": {\"fill\": {\"field\": \"value.data.y\", \"scale\": \"color\"}}}, \"type\": \"path\"}, {\"from\": {\"data\": \"countries_outline\"}, \"properties\": {\"enter\": {\"path\": {\"field\": \"path\"}, \"stroke\": {\"value\": \"#000\"}}}, \"type\": \"path\"}], \"padding\": \"auto\", \"scales\": [{\"domain\": [10, 11, 0, 1, 16, -1, 12, 3, 18, 4, 5, 6, 7, 13, 8, 19, 9, 17, 23, 14, 20, 15, 21], \"name\": \"color\", \"range\": [\"#9e0142\", \"#d53e4f\", \"#f46d43\", \"#fdae61\", \"#fee08b\", \"#ffffbf\", \"#e6f598\", \"#abdda4\", \"#66c2a5\", \"#3288bd\", \"#5e4fa2\"], \"type\": \"quantize\"}], \"width\": 960}, function(chart) {\n",
       "         chart({el: \"#vis05982f950aa04622bede9f8919662126\"}).update();\n",
       "       });\n",
       "     };\n",
       "     _do_plot();\n",
       "   })();\n",
       "</script>\n",
       "<style>.vega canvas {width: 100%;}</style>\n",
       "        "
      ],
      "text/plain": [
       "<IPython.core.display.HTML object>"
      ]
     },
     "metadata": {},
     "output_type": "display_data"
    },
    {
     "name": "stdout",
     "output_type": "stream",
     "text": [
      "[10, 11, 0, 1, 16, 14, 12, 3, 18, 4, 5, 6, 7, 13, 8, 19, 9, -1, 17, 23, 20, 15, 21]\n"
     ]
    },
    {
     "data": {
      "text/html": [
       "<div id=\"vis7e0785dca2024fd0adb122cef0f8c553\"></div>\n",
       "<script>\n",
       "   ( function() {\n",
       "     var _do_plot = function() {\n",
       "       if (typeof vg === 'undefined') {\n",
       "         window.addEventListener('vincent_libs_loaded', _do_plot)\n",
       "         return;\n",
       "       }\n",
       "       vg.parse.spec({\"axes\": [], \"data\": [{\"name\": \"table\", \"values\": [{\"x\": \"ARG\", \"y\": 10}, {\"x\": \"AUS\", \"y\": 11}, {\"x\": \"BGD\", \"y\": 0}, {\"x\": \"BRA\", \"y\": 1}, {\"x\": \"CAN\", \"y\": 16}, {\"x\": \"CHL\", \"y\": 14}, {\"x\": \"CHN\", \"y\": 12}, {\"x\": \"COL\", \"y\": 1}, {\"x\": \"DZA\", \"y\": 3}, {\"x\": \"EGY\", \"y\": 18}, {\"x\": \"ETH\", \"y\": 4}, {\"x\": \"EUN\", \"y\": 5}, {\"x\": \"GHA\", \"y\": 4}, {\"x\": \"HTI\", \"y\": 6}, {\"x\": \"IDN\", \"y\": 0}, {\"x\": \"IND\", \"y\": 7}, {\"x\": \"IRN\", \"y\": 3}, {\"x\": \"ISR\", \"y\": 13}, {\"x\": \"JPN\", \"y\": 8}, {\"x\": \"KAZ\", \"y\": 19}, {\"x\": \"KOR\", \"y\": 8}, {\"x\": \"MEX\", \"y\": 9}, {\"x\": \"MOZ\", \"y\": 4}, {\"x\": \"MYS\", \"y\": 1}, {\"x\": \"NGA\", \"y\": 4}, {\"x\": \"NZL\", \"y\": -1}, {\"x\": \"PAK\", \"y\": 17}, {\"x\": \"PER\", \"y\": 1}, {\"x\": \"PHL\", \"y\": 0}, {\"x\": \"PRY\", \"y\": 23}, {\"x\": \"RUS\", \"y\": 14}, {\"x\": \"SAU\", \"y\": 20}, {\"x\": \"SDN\", \"y\": 6}, {\"x\": \"THA\", \"y\": 0}, {\"x\": \"TUR\", \"y\": 3}, {\"x\": \"TZA\", \"y\": 4}, {\"x\": \"UKR\", \"y\": 14}, {\"x\": \"URY\", \"y\": -1}, {\"x\": \"USA\", \"y\": 15}, {\"x\": \"VNM\", \"y\": 0}, {\"x\": \"ZAF\", \"y\": 21}, {\"x\": \"ZMB\", \"y\": 4}]}, {\"format\": {\"feature\": \"world-countries\", \"type\": \"topojson\"}, \"name\": \"countries\", \"transform\": [{\"as\": \"value\", \"default\": \"noval\", \"key\": \"data.id\", \"type\": \"zip\", \"with\": \"table\", \"withKey\": \"data.x\"}, {\"test\": \"d.path!='noval' && d.value!='noval'\", \"type\": \"filter\"}, {\"projection\": \"winkel3\", \"scale\": 200, \"translate\": [480, 250], \"type\": \"geopath\", \"value\": \"data\"}], \"url\": \"https://raw.githubusercontent.com/wrobstory/vincent_map_data/master/world-countries.topo.json\"}, {\"format\": {\"feature\": \"world-countries\", \"type\": \"topojson\"}, \"name\": \"countries_outline\", \"transform\": [{\"projection\": \"winkel3\", \"scale\": 200, \"translate\": [480, 250], \"type\": \"geopath\", \"value\": \"data\"}], \"url\": \"https://raw.githubusercontent.com/wrobstory/vincent_map_data/master/world-countries.topo.json\"}], \"height\": 500, \"legends\": [], \"marks\": [{\"from\": {\"data\": \"countries\"}, \"properties\": {\"enter\": {\"path\": {\"field\": \"path\"}, \"stroke\": {\"value\": \"#000000\"}}, \"update\": {\"fill\": {\"field\": \"value.data.y\", \"scale\": \"color\"}}}, \"type\": \"path\"}, {\"from\": {\"data\": \"countries_outline\"}, \"properties\": {\"enter\": {\"path\": {\"field\": \"path\"}, \"stroke\": {\"value\": \"#000\"}}}, \"type\": \"path\"}], \"padding\": \"auto\", \"scales\": [{\"domain\": [10, 11, 0, 1, 16, 14, 12, 3, 18, 4, 5, 6, 7, 13, 8, 19, 9, -1, 17, 23, 20, 15, 21], \"name\": \"color\", \"range\": [\"#9e0142\", \"#d53e4f\", \"#f46d43\", \"#fdae61\", \"#fee08b\", \"#ffffbf\", \"#e6f598\", \"#abdda4\", \"#66c2a5\", \"#3288bd\", \"#5e4fa2\"], \"type\": \"quantize\"}], \"width\": 960}, function(chart) {\n",
       "         chart({el: \"#vis7e0785dca2024fd0adb122cef0f8c553\"}).update();\n",
       "       });\n",
       "     };\n",
       "     _do_plot();\n",
       "   })();\n",
       "</script>\n",
       "<style>.vega canvas {width: 100%;}</style>\n",
       "        "
      ],
      "text/plain": [
       "<IPython.core.display.HTML object>"
      ]
     },
     "metadata": {},
     "output_type": "display_data"
    },
    {
     "name": "stdout",
     "output_type": "stream",
     "text": [
      "[10, 11, 0, 1, 16, 14, 12, 3, 18, 4, 5, 6, 7, 13, 8, 19, 9, -1, 17, 23, 20, 15, 22, 21]\n"
     ]
    },
    {
     "data": {
      "text/html": [
       "<div id=\"visf29055ac980047a2a91102d59f17d4e9\"></div>\n",
       "<script>\n",
       "   ( function() {\n",
       "     var _do_plot = function() {\n",
       "       if (typeof vg === 'undefined') {\n",
       "         window.addEventListener('vincent_libs_loaded', _do_plot)\n",
       "         return;\n",
       "       }\n",
       "       vg.parse.spec({\"axes\": [], \"data\": [{\"name\": \"table\", \"values\": [{\"x\": \"ARG\", \"y\": 10}, {\"x\": \"AUS\", \"y\": 11}, {\"x\": \"BGD\", \"y\": 0}, {\"x\": \"BRA\", \"y\": 1}, {\"x\": \"CAN\", \"y\": 16}, {\"x\": \"CHL\", \"y\": 14}, {\"x\": \"CHN\", \"y\": 12}, {\"x\": \"COL\", \"y\": 1}, {\"x\": \"DZA\", \"y\": 3}, {\"x\": \"EGY\", \"y\": 18}, {\"x\": \"ETH\", \"y\": 4}, {\"x\": \"EUN\", \"y\": 5}, {\"x\": \"GHA\", \"y\": 4}, {\"x\": \"HTI\", \"y\": 6}, {\"x\": \"IDN\", \"y\": 0}, {\"x\": \"IND\", \"y\": 7}, {\"x\": \"IRN\", \"y\": 3}, {\"x\": \"ISR\", \"y\": 13}, {\"x\": \"JPN\", \"y\": 8}, {\"x\": \"KAZ\", \"y\": 19}, {\"x\": \"KOR\", \"y\": 8}, {\"x\": \"MEX\", \"y\": 9}, {\"x\": \"MOZ\", \"y\": 4}, {\"x\": \"MYS\", \"y\": 1}, {\"x\": \"NGA\", \"y\": 4}, {\"x\": \"NZL\", \"y\": -1}, {\"x\": \"PAK\", \"y\": 17}, {\"x\": \"PER\", \"y\": 1}, {\"x\": \"PHL\", \"y\": 0}, {\"x\": \"PRY\", \"y\": 23}, {\"x\": \"RUS\", \"y\": 14}, {\"x\": \"SAU\", \"y\": 20}, {\"x\": \"SDN\", \"y\": 6}, {\"x\": \"THA\", \"y\": 0}, {\"x\": \"TUR\", \"y\": 3}, {\"x\": \"TZA\", \"y\": 4}, {\"x\": \"UKR\", \"y\": 14}, {\"x\": \"URY\", \"y\": 10}, {\"x\": \"USA\", \"y\": 15}, {\"x\": \"VNM\", \"y\": 22}, {\"x\": \"ZAF\", \"y\": 21}, {\"x\": \"ZMB\", \"y\": 4}]}, {\"format\": {\"feature\": \"world-countries\", \"type\": \"topojson\"}, \"name\": \"countries\", \"transform\": [{\"as\": \"value\", \"default\": \"noval\", \"key\": \"data.id\", \"type\": \"zip\", \"with\": \"table\", \"withKey\": \"data.x\"}, {\"test\": \"d.path!='noval' && d.value!='noval'\", \"type\": \"filter\"}, {\"projection\": \"winkel3\", \"scale\": 200, \"translate\": [480, 250], \"type\": \"geopath\", \"value\": \"data\"}], \"url\": \"https://raw.githubusercontent.com/wrobstory/vincent_map_data/master/world-countries.topo.json\"}, {\"format\": {\"feature\": \"world-countries\", \"type\": \"topojson\"}, \"name\": \"countries_outline\", \"transform\": [{\"projection\": \"winkel3\", \"scale\": 200, \"translate\": [480, 250], \"type\": \"geopath\", \"value\": \"data\"}], \"url\": \"https://raw.githubusercontent.com/wrobstory/vincent_map_data/master/world-countries.topo.json\"}], \"height\": 500, \"legends\": [], \"marks\": [{\"from\": {\"data\": \"countries\"}, \"properties\": {\"enter\": {\"path\": {\"field\": \"path\"}, \"stroke\": {\"value\": \"#000000\"}}, \"update\": {\"fill\": {\"field\": \"value.data.y\", \"scale\": \"color\"}}}, \"type\": \"path\"}, {\"from\": {\"data\": \"countries_outline\"}, \"properties\": {\"enter\": {\"path\": {\"field\": \"path\"}, \"stroke\": {\"value\": \"#000\"}}}, \"type\": \"path\"}], \"padding\": \"auto\", \"scales\": [{\"domain\": [10, 11, 0, 1, 16, 14, 12, 3, 18, 4, 5, 6, 7, 13, 8, 19, 9, -1, 17, 23, 20, 15, 22, 21], \"name\": \"color\", \"range\": [\"#9e0142\", \"#d53e4f\", \"#f46d43\", \"#fdae61\", \"#fee08b\", \"#ffffbf\", \"#e6f598\", \"#abdda4\", \"#66c2a5\", \"#3288bd\", \"#5e4fa2\"], \"type\": \"quantize\"}], \"width\": 960}, function(chart) {\n",
       "         chart({el: \"#visf29055ac980047a2a91102d59f17d4e9\"}).update();\n",
       "       });\n",
       "     };\n",
       "     _do_plot();\n",
       "   })();\n",
       "</script>\n",
       "<style>.vega canvas {width: 100%;}</style>\n",
       "        "
      ],
      "text/plain": [
       "<IPython.core.display.HTML object>"
      ]
     },
     "metadata": {},
     "output_type": "display_data"
    },
    {
     "name": "stdout",
     "output_type": "stream",
     "text": [
      "[10, 11, 0, 1, 16, 14, 12, 3, 18, 4, 5, 6, 7, 13, 8, 19, 9, -1, 17, 23, 20, 15, 22, 21]\n"
     ]
    },
    {
     "data": {
      "text/html": [
       "<div id=\"viseb4497f5f23d472a8fa604c3f883e533\"></div>\n",
       "<script>\n",
       "   ( function() {\n",
       "     var _do_plot = function() {\n",
       "       if (typeof vg === 'undefined') {\n",
       "         window.addEventListener('vincent_libs_loaded', _do_plot)\n",
       "         return;\n",
       "       }\n",
       "       vg.parse.spec({\"axes\": [], \"data\": [{\"name\": \"table\", \"values\": [{\"x\": \"ARG\", \"y\": 10}, {\"x\": \"AUS\", \"y\": 11}, {\"x\": \"BGD\", \"y\": 0}, {\"x\": \"BRA\", \"y\": 1}, {\"x\": \"CAN\", \"y\": 16}, {\"x\": \"CHL\", \"y\": 14}, {\"x\": \"CHN\", \"y\": 12}, {\"x\": \"COL\", \"y\": 1}, {\"x\": \"DZA\", \"y\": 3}, {\"x\": \"EGY\", \"y\": 18}, {\"x\": \"ETH\", \"y\": 4}, {\"x\": \"EUN\", \"y\": 5}, {\"x\": \"GHA\", \"y\": 4}, {\"x\": \"HTI\", \"y\": 6}, {\"x\": \"IDN\", \"y\": 0}, {\"x\": \"IND\", \"y\": 7}, {\"x\": \"IRN\", \"y\": 3}, {\"x\": \"ISR\", \"y\": 13}, {\"x\": \"JPN\", \"y\": 8}, {\"x\": \"KAZ\", \"y\": 19}, {\"x\": \"KOR\", \"y\": 8}, {\"x\": \"MEX\", \"y\": 9}, {\"x\": \"MOZ\", \"y\": 4}, {\"x\": \"MYS\", \"y\": 1}, {\"x\": \"NGA\", \"y\": 4}, {\"x\": \"NZL\", \"y\": -1}, {\"x\": \"PAK\", \"y\": 17}, {\"x\": \"PER\", \"y\": 1}, {\"x\": \"PHL\", \"y\": 0}, {\"x\": \"PRY\", \"y\": 23}, {\"x\": \"RUS\", \"y\": 14}, {\"x\": \"SAU\", \"y\": 20}, {\"x\": \"SDN\", \"y\": 6}, {\"x\": \"THA\", \"y\": 0}, {\"x\": \"TUR\", \"y\": 3}, {\"x\": \"TZA\", \"y\": 4}, {\"x\": \"UKR\", \"y\": 14}, {\"x\": \"URY\", \"y\": -1}, {\"x\": \"USA\", \"y\": 15}, {\"x\": \"VNM\", \"y\": 22}, {\"x\": \"ZAF\", \"y\": 21}, {\"x\": \"ZMB\", \"y\": 4}]}, {\"format\": {\"feature\": \"world-countries\", \"type\": \"topojson\"}, \"name\": \"countries\", \"transform\": [{\"as\": \"value\", \"default\": \"noval\", \"key\": \"data.id\", \"type\": \"zip\", \"with\": \"table\", \"withKey\": \"data.x\"}, {\"test\": \"d.path!='noval' && d.value!='noval'\", \"type\": \"filter\"}, {\"projection\": \"winkel3\", \"scale\": 200, \"translate\": [480, 250], \"type\": \"geopath\", \"value\": \"data\"}], \"url\": \"https://raw.githubusercontent.com/wrobstory/vincent_map_data/master/world-countries.topo.json\"}, {\"format\": {\"feature\": \"world-countries\", \"type\": \"topojson\"}, \"name\": \"countries_outline\", \"transform\": [{\"projection\": \"winkel3\", \"scale\": 200, \"translate\": [480, 250], \"type\": \"geopath\", \"value\": \"data\"}], \"url\": \"https://raw.githubusercontent.com/wrobstory/vincent_map_data/master/world-countries.topo.json\"}], \"height\": 500, \"legends\": [], \"marks\": [{\"from\": {\"data\": \"countries\"}, \"properties\": {\"enter\": {\"path\": {\"field\": \"path\"}, \"stroke\": {\"value\": \"#000000\"}}, \"update\": {\"fill\": {\"field\": \"value.data.y\", \"scale\": \"color\"}}}, \"type\": \"path\"}, {\"from\": {\"data\": \"countries_outline\"}, \"properties\": {\"enter\": {\"path\": {\"field\": \"path\"}, \"stroke\": {\"value\": \"#000\"}}}, \"type\": \"path\"}], \"padding\": \"auto\", \"scales\": [{\"domain\": [10, 11, 0, 1, 16, 14, 12, 3, 18, 4, 5, 6, 7, 13, 8, 19, 9, -1, 17, 23, 20, 15, 22, 21], \"name\": \"color\", \"range\": [\"#9e0142\", \"#d53e4f\", \"#f46d43\", \"#fdae61\", \"#fee08b\", \"#ffffbf\", \"#e6f598\", \"#abdda4\", \"#66c2a5\", \"#3288bd\", \"#5e4fa2\"], \"type\": \"quantize\"}], \"width\": 960}, function(chart) {\n",
       "         chart({el: \"#viseb4497f5f23d472a8fa604c3f883e533\"}).update();\n",
       "       });\n",
       "     };\n",
       "     _do_plot();\n",
       "   })();\n",
       "</script>\n",
       "<style>.vega canvas {width: 100%;}</style>\n",
       "        "
      ],
      "text/plain": [
       "<IPython.core.display.HTML object>"
      ]
     },
     "metadata": {},
     "output_type": "display_data"
    },
    {
     "name": "stdout",
     "output_type": "stream",
     "text": [
      "[10, 11, 0, 1, 16, 14, 12, 3, 18, 4, 5, 6, 7, 13, 8, 19, 9, -1, 17, 23, 20, 15, 22, 21]\n"
     ]
    },
    {
     "data": {
      "text/html": [
       "<div id=\"vis93373fface7b419dbf7a3ede2c9b06cf\"></div>\n",
       "<script>\n",
       "   ( function() {\n",
       "     var _do_plot = function() {\n",
       "       if (typeof vg === 'undefined') {\n",
       "         window.addEventListener('vincent_libs_loaded', _do_plot)\n",
       "         return;\n",
       "       }\n",
       "       vg.parse.spec({\"axes\": [], \"data\": [{\"name\": \"table\", \"values\": [{\"x\": \"ARG\", \"y\": 10}, {\"x\": \"AUS\", \"y\": 11}, {\"x\": \"BGD\", \"y\": 0}, {\"x\": \"BRA\", \"y\": 1}, {\"x\": \"CAN\", \"y\": 16}, {\"x\": \"CHL\", \"y\": 14}, {\"x\": \"CHN\", \"y\": 12}, {\"x\": \"COL\", \"y\": 1}, {\"x\": \"DZA\", \"y\": 3}, {\"x\": \"EGY\", \"y\": 18}, {\"x\": \"ETH\", \"y\": 4}, {\"x\": \"EUN\", \"y\": 5}, {\"x\": \"GHA\", \"y\": 4}, {\"x\": \"HTI\", \"y\": 6}, {\"x\": \"IDN\", \"y\": 0}, {\"x\": \"IND\", \"y\": 7}, {\"x\": \"IRN\", \"y\": 3}, {\"x\": \"ISR\", \"y\": 13}, {\"x\": \"JPN\", \"y\": 8}, {\"x\": \"KAZ\", \"y\": 19}, {\"x\": \"KOR\", \"y\": 8}, {\"x\": \"MEX\", \"y\": 9}, {\"x\": \"MOZ\", \"y\": 4}, {\"x\": \"MYS\", \"y\": 1}, {\"x\": \"NGA\", \"y\": 4}, {\"x\": \"NZL\", \"y\": -1}, {\"x\": \"PAK\", \"y\": 17}, {\"x\": \"PER\", \"y\": 1}, {\"x\": \"PHL\", \"y\": 0}, {\"x\": \"PRY\", \"y\": 23}, {\"x\": \"RUS\", \"y\": 14}, {\"x\": \"SAU\", \"y\": 20}, {\"x\": \"SDN\", \"y\": 6}, {\"x\": \"THA\", \"y\": 0}, {\"x\": \"TUR\", \"y\": 3}, {\"x\": \"TZA\", \"y\": 4}, {\"x\": \"UKR\", \"y\": 14}, {\"x\": \"URY\", \"y\": -1}, {\"x\": \"USA\", \"y\": 15}, {\"x\": \"VNM\", \"y\": 22}, {\"x\": \"ZAF\", \"y\": 21}, {\"x\": \"ZMB\", \"y\": 4}]}, {\"format\": {\"feature\": \"world-countries\", \"type\": \"topojson\"}, \"name\": \"countries\", \"transform\": [{\"as\": \"value\", \"default\": \"noval\", \"key\": \"data.id\", \"type\": \"zip\", \"with\": \"table\", \"withKey\": \"data.x\"}, {\"test\": \"d.path!='noval' && d.value!='noval'\", \"type\": \"filter\"}, {\"projection\": \"winkel3\", \"scale\": 200, \"translate\": [480, 250], \"type\": \"geopath\", \"value\": \"data\"}], \"url\": \"https://raw.githubusercontent.com/wrobstory/vincent_map_data/master/world-countries.topo.json\"}, {\"format\": {\"feature\": \"world-countries\", \"type\": \"topojson\"}, \"name\": \"countries_outline\", \"transform\": [{\"projection\": \"winkel3\", \"scale\": 200, \"translate\": [480, 250], \"type\": \"geopath\", \"value\": \"data\"}], \"url\": \"https://raw.githubusercontent.com/wrobstory/vincent_map_data/master/world-countries.topo.json\"}], \"height\": 500, \"legends\": [], \"marks\": [{\"from\": {\"data\": \"countries\"}, \"properties\": {\"enter\": {\"path\": {\"field\": \"path\"}, \"stroke\": {\"value\": \"#000000\"}}, \"update\": {\"fill\": {\"field\": \"value.data.y\", \"scale\": \"color\"}}}, \"type\": \"path\"}, {\"from\": {\"data\": \"countries_outline\"}, \"properties\": {\"enter\": {\"path\": {\"field\": \"path\"}, \"stroke\": {\"value\": \"#000\"}}}, \"type\": \"path\"}], \"padding\": \"auto\", \"scales\": [{\"domain\": [10, 11, 0, 1, 16, 14, 12, 3, 18, 4, 5, 6, 7, 13, 8, 19, 9, -1, 17, 23, 20, 15, 22, 21], \"name\": \"color\", \"range\": [\"#9e0142\", \"#d53e4f\", \"#f46d43\", \"#fdae61\", \"#fee08b\", \"#ffffbf\", \"#e6f598\", \"#abdda4\", \"#66c2a5\", \"#3288bd\", \"#5e4fa2\"], \"type\": \"quantize\"}], \"width\": 960}, function(chart) {\n",
       "         chart({el: \"#vis93373fface7b419dbf7a3ede2c9b06cf\"}).update();\n",
       "       });\n",
       "     };\n",
       "     _do_plot();\n",
       "   })();\n",
       "</script>\n",
       "<style>.vega canvas {width: 100%;}</style>\n",
       "        "
      ],
      "text/plain": [
       "<IPython.core.display.HTML object>"
      ]
     },
     "metadata": {},
     "output_type": "display_data"
    },
    {
     "name": "stdout",
     "output_type": "stream",
     "text": [
      "[10, 11, 0, 1, 16, 14, 12, 3, 18, 4, 5, 6, 7, 13, 8, 19, 9, -1, 17, 23, 20, 15, 22, 21]\n"
     ]
    },
    {
     "data": {
      "text/html": [
       "<div id=\"vis02601dacee274aec934d8d9af06607d8\"></div>\n",
       "<script>\n",
       "   ( function() {\n",
       "     var _do_plot = function() {\n",
       "       if (typeof vg === 'undefined') {\n",
       "         window.addEventListener('vincent_libs_loaded', _do_plot)\n",
       "         return;\n",
       "       }\n",
       "       vg.parse.spec({\"axes\": [], \"data\": [{\"name\": \"table\", \"values\": [{\"x\": \"ARG\", \"y\": 10}, {\"x\": \"AUS\", \"y\": 11}, {\"x\": \"BGD\", \"y\": 0}, {\"x\": \"BRA\", \"y\": 1}, {\"x\": \"CAN\", \"y\": 16}, {\"x\": \"CHL\", \"y\": 14}, {\"x\": \"CHN\", \"y\": 12}, {\"x\": \"COL\", \"y\": 1}, {\"x\": \"DZA\", \"y\": 3}, {\"x\": \"EGY\", \"y\": 18}, {\"x\": \"ETH\", \"y\": 4}, {\"x\": \"EUN\", \"y\": 5}, {\"x\": \"GHA\", \"y\": 4}, {\"x\": \"HTI\", \"y\": 6}, {\"x\": \"IDN\", \"y\": 0}, {\"x\": \"IND\", \"y\": 7}, {\"x\": \"IRN\", \"y\": 3}, {\"x\": \"ISR\", \"y\": 13}, {\"x\": \"JPN\", \"y\": 8}, {\"x\": \"KAZ\", \"y\": 19}, {\"x\": \"KOR\", \"y\": 8}, {\"x\": \"MEX\", \"y\": 9}, {\"x\": \"MOZ\", \"y\": 4}, {\"x\": \"MYS\", \"y\": 1}, {\"x\": \"NGA\", \"y\": 4}, {\"x\": \"NZL\", \"y\": -1}, {\"x\": \"PAK\", \"y\": 17}, {\"x\": \"PER\", \"y\": 1}, {\"x\": \"PHL\", \"y\": 0}, {\"x\": \"PRY\", \"y\": 23}, {\"x\": \"RUS\", \"y\": 14}, {\"x\": \"SAU\", \"y\": 20}, {\"x\": \"SDN\", \"y\": 6}, {\"x\": \"THA\", \"y\": 0}, {\"x\": \"TUR\", \"y\": 3}, {\"x\": \"TZA\", \"y\": 4}, {\"x\": \"UKR\", \"y\": 14}, {\"x\": \"URY\", \"y\": -1}, {\"x\": \"USA\", \"y\": 15}, {\"x\": \"VNM\", \"y\": 22}, {\"x\": \"ZAF\", \"y\": 21}, {\"x\": \"ZMB\", \"y\": 4}]}, {\"format\": {\"feature\": \"world-countries\", \"type\": \"topojson\"}, \"name\": \"countries\", \"transform\": [{\"as\": \"value\", \"default\": \"noval\", \"key\": \"data.id\", \"type\": \"zip\", \"with\": \"table\", \"withKey\": \"data.x\"}, {\"test\": \"d.path!='noval' && d.value!='noval'\", \"type\": \"filter\"}, {\"projection\": \"winkel3\", \"scale\": 200, \"translate\": [480, 250], \"type\": \"geopath\", \"value\": \"data\"}], \"url\": \"https://raw.githubusercontent.com/wrobstory/vincent_map_data/master/world-countries.topo.json\"}, {\"format\": {\"feature\": \"world-countries\", \"type\": \"topojson\"}, \"name\": \"countries_outline\", \"transform\": [{\"projection\": \"winkel3\", \"scale\": 200, \"translate\": [480, 250], \"type\": \"geopath\", \"value\": \"data\"}], \"url\": \"https://raw.githubusercontent.com/wrobstory/vincent_map_data/master/world-countries.topo.json\"}], \"height\": 500, \"legends\": [], \"marks\": [{\"from\": {\"data\": \"countries\"}, \"properties\": {\"enter\": {\"path\": {\"field\": \"path\"}, \"stroke\": {\"value\": \"#000000\"}}, \"update\": {\"fill\": {\"field\": \"value.data.y\", \"scale\": \"color\"}}}, \"type\": \"path\"}, {\"from\": {\"data\": \"countries_outline\"}, \"properties\": {\"enter\": {\"path\": {\"field\": \"path\"}, \"stroke\": {\"value\": \"#000\"}}}, \"type\": \"path\"}], \"padding\": \"auto\", \"scales\": [{\"domain\": [10, 11, 0, 1, 16, 14, 12, 3, 18, 4, 5, 6, 7, 13, 8, 19, 9, -1, 17, 23, 20, 15, 22, 21], \"name\": \"color\", \"range\": [\"#9e0142\", \"#d53e4f\", \"#f46d43\", \"#fdae61\", \"#fee08b\", \"#ffffbf\", \"#e6f598\", \"#abdda4\", \"#66c2a5\", \"#3288bd\", \"#5e4fa2\"], \"type\": \"quantize\"}], \"width\": 960}, function(chart) {\n",
       "         chart({el: \"#vis02601dacee274aec934d8d9af06607d8\"}).update();\n",
       "       });\n",
       "     };\n",
       "     _do_plot();\n",
       "   })();\n",
       "</script>\n",
       "<style>.vega canvas {width: 100%;}</style>\n",
       "        "
      ],
      "text/plain": [
       "<IPython.core.display.HTML object>"
      ]
     },
     "metadata": {},
     "output_type": "display_data"
    }
   ],
   "source": [
    "dbscan = DBSCAN(eps=0.3, min_samples=5)\n",
    "clusters = predict_clusters(df, dbscan) \n",
    "for y in pd.unique(clusters['COUNTRY'].apply(lambda s: s[4:])):\n",
    "    df_temp = pd.DataFrame(clusters[clusters['COUNTRY'].apply(lambda s: s[4:] == y)])\n",
    "    df_temp['COUNTRY'] = clusters['COUNTRY'].apply(lambda s: s[:3])\n",
    "    df_temp\n",
    "    vis_clusters(df_temp)"
   ]
  },
  {
   "cell_type": "code",
   "execution_count": null,
   "metadata": {
    "collapsed": true
   },
   "outputs": [],
   "source": []
  }
 ],
 "metadata": {
  "kernelspec": {
   "display_name": "Python 2",
   "language": "python",
   "name": "python2"
  },
  "language_info": {
   "codemirror_mode": {
    "name": "ipython",
    "version": 2
   },
   "file_extension": ".py",
   "mimetype": "text/x-python",
   "name": "python",
   "nbconvert_exporter": "python",
   "pygments_lexer": "ipython2",
   "version": "2.7.13+"
  }
 },
 "nbformat": 4,
 "nbformat_minor": 2
}

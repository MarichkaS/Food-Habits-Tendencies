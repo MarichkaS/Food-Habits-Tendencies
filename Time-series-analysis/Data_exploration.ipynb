{
 "cells": [
  {
   "cell_type": "code",
   "execution_count": 1,
   "metadata": {
    "collapsed": true
   },
   "outputs": [],
   "source": [
    "import pandas as pd\n",
    "import numpy\n",
    "import csv\n",
    "import matplotlib as plt\n",
    "import matplotlib.patches as mpatches\n"
   ]
  },
  {
   "cell_type": "code",
   "execution_count": 2,
   "metadata": {
    "collapsed": true
   },
   "outputs": [],
   "source": [
    "%matplotlib inline"
   ]
  },
  {
   "cell_type": "code",
   "execution_count": 3,
   "metadata": {
    "collapsed": true
   },
   "outputs": [],
   "source": [
    "df = pd.read_csv('../data/dataset/HIGH_AGLINK_2017_18102017114638557.csv')"
   ]
  },
  {
   "cell_type": "code",
   "execution_count": 4,
   "metadata": {},
   "outputs": [
    {
     "data": {
      "text/plain": [
       "1990"
      ]
     },
     "execution_count": 4,
     "metadata": {},
     "output_type": "execute_result"
    }
   ],
   "source": [
    "min(df['Time'])"
   ]
  },
  {
   "cell_type": "markdown",
   "metadata": {},
   "source": [
    "## Create a general dataframe"
   ]
  },
  {
   "cell_type": "code",
   "execution_count": 5,
   "metadata": {},
   "outputs": [
    {
     "data": {
      "text/plain": [
       "(601237, 11)"
      ]
     },
     "execution_count": 5,
     "metadata": {},
     "output_type": "execute_result"
    }
   ],
   "source": [
    "df.shape"
   ]
  },
  {
   "cell_type": "code",
   "execution_count": 6,
   "metadata": {
    "collapsed": true
   },
   "outputs": [],
   "source": [
    "list_countries = df['Country'].values"
   ]
  },
  {
   "cell_type": "code",
   "execution_count": 7,
   "metadata": {},
   "outputs": [
    {
     "data": {
      "text/html": [
       "<div>\n",
       "<style>\n",
       "    .dataframe thead tr:only-child th {\n",
       "        text-align: right;\n",
       "    }\n",
       "\n",
       "    .dataframe thead th {\n",
       "        text-align: left;\n",
       "    }\n",
       "\n",
       "    .dataframe tbody tr th {\n",
       "        vertical-align: top;\n",
       "    }\n",
       "</style>\n",
       "<table border=\"1\" class=\"dataframe\">\n",
       "  <thead>\n",
       "    <tr style=\"text-align: right;\">\n",
       "      <th></th>\n",
       "      <th>COUNTRY</th>\n",
       "      <th>Country</th>\n",
       "      <th>COMMODITY</th>\n",
       "      <th>Commodity</th>\n",
       "      <th>VARIABLE</th>\n",
       "      <th>Variable</th>\n",
       "      <th>TIME</th>\n",
       "      <th>Time</th>\n",
       "      <th>Value</th>\n",
       "      <th>Flag Codes</th>\n",
       "      <th>Flags</th>\n",
       "    </tr>\n",
       "  </thead>\n",
       "  <tbody>\n",
       "    <tr>\n",
       "      <th>0</th>\n",
       "      <td>OED</td>\n",
       "      <td>OECD countries</td>\n",
       "      <td>WT</td>\n",
       "      <td>Wheat</td>\n",
       "      <td>QP</td>\n",
       "      <td>Production</td>\n",
       "      <td>1994</td>\n",
       "      <td>1994</td>\n",
       "      <td>232327.881048</td>\n",
       "      <td>NaN</td>\n",
       "      <td>NaN</td>\n",
       "    </tr>\n",
       "    <tr>\n",
       "      <th>1</th>\n",
       "      <td>OED</td>\n",
       "      <td>OECD countries</td>\n",
       "      <td>WT</td>\n",
       "      <td>Wheat</td>\n",
       "      <td>QP</td>\n",
       "      <td>Production</td>\n",
       "      <td>1995</td>\n",
       "      <td>1995</td>\n",
       "      <td>245930.181270</td>\n",
       "      <td>NaN</td>\n",
       "      <td>NaN</td>\n",
       "    </tr>\n",
       "    <tr>\n",
       "      <th>2</th>\n",
       "      <td>OED</td>\n",
       "      <td>OECD countries</td>\n",
       "      <td>WT</td>\n",
       "      <td>Wheat</td>\n",
       "      <td>QP</td>\n",
       "      <td>Production</td>\n",
       "      <td>1996</td>\n",
       "      <td>1996</td>\n",
       "      <td>265071.279385</td>\n",
       "      <td>NaN</td>\n",
       "      <td>NaN</td>\n",
       "    </tr>\n",
       "    <tr>\n",
       "      <th>3</th>\n",
       "      <td>OED</td>\n",
       "      <td>OECD countries</td>\n",
       "      <td>WT</td>\n",
       "      <td>Wheat</td>\n",
       "      <td>QP</td>\n",
       "      <td>Production</td>\n",
       "      <td>1997</td>\n",
       "      <td>1997</td>\n",
       "      <td>264589.728929</td>\n",
       "      <td>NaN</td>\n",
       "      <td>NaN</td>\n",
       "    </tr>\n",
       "    <tr>\n",
       "      <th>4</th>\n",
       "      <td>OED</td>\n",
       "      <td>OECD countries</td>\n",
       "      <td>WT</td>\n",
       "      <td>Wheat</td>\n",
       "      <td>QP</td>\n",
       "      <td>Production</td>\n",
       "      <td>1998</td>\n",
       "      <td>1998</td>\n",
       "      <td>278244.877881</td>\n",
       "      <td>NaN</td>\n",
       "      <td>NaN</td>\n",
       "    </tr>\n",
       "  </tbody>\n",
       "</table>\n",
       "</div>"
      ],
      "text/plain": [
       "  COUNTRY         Country COMMODITY Commodity VARIABLE    Variable  TIME  \\\n",
       "0     OED  OECD countries        WT     Wheat       QP  Production  1994   \n",
       "1     OED  OECD countries        WT     Wheat       QP  Production  1995   \n",
       "2     OED  OECD countries        WT     Wheat       QP  Production  1996   \n",
       "3     OED  OECD countries        WT     Wheat       QP  Production  1997   \n",
       "4     OED  OECD countries        WT     Wheat       QP  Production  1998   \n",
       "\n",
       "   Time          Value  Flag Codes  Flags  \n",
       "0  1994  232327.881048         NaN    NaN  \n",
       "1  1995  245930.181270         NaN    NaN  \n",
       "2  1996  265071.279385         NaN    NaN  \n",
       "3  1997  264589.728929         NaN    NaN  \n",
       "4  1998  278244.877881         NaN    NaN  "
      ]
     },
     "execution_count": 7,
     "metadata": {},
     "output_type": "execute_result"
    }
   ],
   "source": [
    "df.head()"
   ]
  },
  {
   "cell_type": "code",
   "execution_count": 8,
   "metadata": {},
   "outputs": [],
   "source": [
    "whole_dataset = pd.read_csv('../data/dataset/all_data_.csv')"
   ]
  },
  {
   "cell_type": "code",
   "execution_count": 9,
   "metadata": {},
   "outputs": [
    {
     "data": {
      "text/plain": [
       "(14566119, 11)"
      ]
     },
     "execution_count": 9,
     "metadata": {},
     "output_type": "execute_result"
    }
   ],
   "source": [
    "whole_dataset.shape"
   ]
  },
  {
   "cell_type": "code",
   "execution_count": 10,
   "metadata": {},
   "outputs": [
    {
     "data": {
      "text/html": [
       "<div>\n",
       "<style>\n",
       "    .dataframe thead tr:only-child th {\n",
       "        text-align: right;\n",
       "    }\n",
       "\n",
       "    .dataframe thead th {\n",
       "        text-align: left;\n",
       "    }\n",
       "\n",
       "    .dataframe tbody tr th {\n",
       "        vertical-align: top;\n",
       "    }\n",
       "</style>\n",
       "<table border=\"1\" class=\"dataframe\">\n",
       "  <thead>\n",
       "    <tr style=\"text-align: right;\">\n",
       "      <th></th>\n",
       "      <th>Area Code</th>\n",
       "      <th>Area</th>\n",
       "      <th>Item Code</th>\n",
       "      <th>Item</th>\n",
       "      <th>Element Code</th>\n",
       "      <th>Element</th>\n",
       "      <th>Year Code</th>\n",
       "      <th>Year</th>\n",
       "      <th>Unit</th>\n",
       "      <th>Value</th>\n",
       "      <th>Flag</th>\n",
       "    </tr>\n",
       "  </thead>\n",
       "  <tbody>\n",
       "    <tr>\n",
       "      <th>0</th>\n",
       "      <td>2</td>\n",
       "      <td>Afghanistan</td>\n",
       "      <td>231</td>\n",
       "      <td>Almonds shelled</td>\n",
       "      <td>5910</td>\n",
       "      <td>Export Quantity</td>\n",
       "      <td>1961</td>\n",
       "      <td>1961</td>\n",
       "      <td>tonnes</td>\n",
       "      <td>0.0</td>\n",
       "      <td>NaN</td>\n",
       "    </tr>\n",
       "    <tr>\n",
       "      <th>1</th>\n",
       "      <td>2</td>\n",
       "      <td>Afghanistan</td>\n",
       "      <td>231</td>\n",
       "      <td>Almonds shelled</td>\n",
       "      <td>5910</td>\n",
       "      <td>Export Quantity</td>\n",
       "      <td>1962</td>\n",
       "      <td>1962</td>\n",
       "      <td>tonnes</td>\n",
       "      <td>0.0</td>\n",
       "      <td>NaN</td>\n",
       "    </tr>\n",
       "    <tr>\n",
       "      <th>2</th>\n",
       "      <td>2</td>\n",
       "      <td>Afghanistan</td>\n",
       "      <td>231</td>\n",
       "      <td>Almonds shelled</td>\n",
       "      <td>5910</td>\n",
       "      <td>Export Quantity</td>\n",
       "      <td>1963</td>\n",
       "      <td>1963</td>\n",
       "      <td>tonnes</td>\n",
       "      <td>0.0</td>\n",
       "      <td>NaN</td>\n",
       "    </tr>\n",
       "    <tr>\n",
       "      <th>3</th>\n",
       "      <td>2</td>\n",
       "      <td>Afghanistan</td>\n",
       "      <td>231</td>\n",
       "      <td>Almonds shelled</td>\n",
       "      <td>5910</td>\n",
       "      <td>Export Quantity</td>\n",
       "      <td>1964</td>\n",
       "      <td>1964</td>\n",
       "      <td>tonnes</td>\n",
       "      <td>0.0</td>\n",
       "      <td>NaN</td>\n",
       "    </tr>\n",
       "    <tr>\n",
       "      <th>4</th>\n",
       "      <td>2</td>\n",
       "      <td>Afghanistan</td>\n",
       "      <td>231</td>\n",
       "      <td>Almonds shelled</td>\n",
       "      <td>5910</td>\n",
       "      <td>Export Quantity</td>\n",
       "      <td>1965</td>\n",
       "      <td>1965</td>\n",
       "      <td>tonnes</td>\n",
       "      <td>0.0</td>\n",
       "      <td>NaN</td>\n",
       "    </tr>\n",
       "  </tbody>\n",
       "</table>\n",
       "</div>"
      ],
      "text/plain": [
       "   Area Code         Area  Item Code             Item  Element Code  \\\n",
       "0          2  Afghanistan        231  Almonds shelled          5910   \n",
       "1          2  Afghanistan        231  Almonds shelled          5910   \n",
       "2          2  Afghanistan        231  Almonds shelled          5910   \n",
       "3          2  Afghanistan        231  Almonds shelled          5910   \n",
       "4          2  Afghanistan        231  Almonds shelled          5910   \n",
       "\n",
       "           Element  Year Code  Year    Unit  Value Flag  \n",
       "0  Export Quantity       1961  1961  tonnes    0.0  NaN  \n",
       "1  Export Quantity       1962  1962  tonnes    0.0  NaN  \n",
       "2  Export Quantity       1963  1963  tonnes    0.0  NaN  \n",
       "3  Export Quantity       1964  1964  tonnes    0.0  NaN  \n",
       "4  Export Quantity       1965  1965  tonnes    0.0  NaN  "
      ]
     },
     "execution_count": 10,
     "metadata": {},
     "output_type": "execute_result"
    }
   ],
   "source": [
    "whole_dataset.head()"
   ]
  },
  {
   "cell_type": "code",
   "execution_count": 11,
   "metadata": {},
   "outputs": [
    {
     "data": {
      "text/plain": [
       "252"
      ]
     },
     "execution_count": 11,
     "metadata": {},
     "output_type": "execute_result"
    }
   ],
   "source": [
    "len(whole_dataset['Area'].unique())"
   ]
  },
  {
   "cell_type": "code",
   "execution_count": 12,
   "metadata": {},
   "outputs": [
    {
     "data": {
      "text/plain": [
       "471"
      ]
     },
     "execution_count": 12,
     "metadata": {},
     "output_type": "execute_result"
    }
   ],
   "source": [
    "len(whole_dataset['Item'].unique())"
   ]
  },
  {
   "cell_type": "code",
   "execution_count": 13,
   "metadata": {},
   "outputs": [
    {
     "data": {
      "text/plain": [
       "0        0.0\n",
       "1        0.0\n",
       "2        0.0\n",
       "3        0.0\n",
       "4        0.0\n",
       "5        0.0\n",
       "6        0.0\n",
       "7        0.0\n",
       "8        0.0\n",
       "9        0.0\n",
       "10       0.0\n",
       "11       0.0\n",
       "12       0.0\n",
       "13       0.0\n",
       "14       0.0\n",
       "15     642.0\n",
       "16     286.0\n",
       "17     518.0\n",
       "18    1100.0\n",
       "19       0.0\n",
       "20       0.0\n",
       "21       0.0\n",
       "22       0.0\n",
       "23       0.0\n",
       "24       0.0\n",
       "25       0.0\n",
       "26     252.0\n",
       "27     939.0\n",
       "28     300.0\n",
       "29     412.0\n",
       "30       0.0\n",
       "31       0.0\n",
       "32       0.0\n",
       "33       0.0\n",
       "34       0.0\n",
       "35       0.0\n",
       "36       0.0\n",
       "37       0.0\n",
       "38       0.0\n",
       "39       0.0\n",
       "40     120.0\n",
       "41    1009.0\n",
       "42    1292.0\n",
       "43    1633.0\n",
       "44    1651.0\n",
       "45     421.0\n",
       "46    1035.0\n",
       "47    2917.0\n",
       "48    4763.0\n",
       "49    1308.0\n",
       "Name: Value, dtype: float64"
      ]
     },
     "execution_count": 13,
     "metadata": {},
     "output_type": "execute_result"
    }
   ],
   "source": [
    "whole_dataset['Value'].head(50)"
   ]
  },
  {
   "cell_type": "markdown",
   "metadata": {},
   "source": [
    "### Time series for specific products"
   ]
  },
  {
   "cell_type": "code",
   "execution_count": 14,
   "metadata": {
    "collapsed": true
   },
   "outputs": [],
   "source": [
    "wheat = pd.read_csv('../data/dataset/wheat1995_2018.csv')"
   ]
  },
  {
   "cell_type": "code",
   "execution_count": 15,
   "metadata": {},
   "outputs": [
    {
     "data": {
      "text/plain": [
       "<matplotlib.axes._subplots.AxesSubplot at 0x7fd3de82ebd0>"
      ]
     },
     "execution_count": 15,
     "metadata": {},
     "output_type": "execute_result"
    },
    {
     "data": {
      "image/png": "[encoded data removed]",
      "text/plain": [
       "<matplotlib.figure.Figure at 0x7fd3de82e550>"
      ]
     },
     "metadata": {},
     "output_type": "display_data"
    }
   ],
   "source": [
    "wheat[['Value', 'TIME']][wheat['LOCATION']=='ZMB'].groupby(['TIME']).sum().plot()"
   ]
  },
  {
   "cell_type": "code",
   "execution_count": 16,
   "metadata": {
    "collapsed": true
   },
   "outputs": [],
   "source": [
    "consumption_df = pd.read_csv('../data/dataset/HIGH_AGLINK_2017_18102017114638557.csv')"
   ]
  },
  {
   "cell_type": "code",
   "execution_count": 17,
   "metadata": {},
   "outputs": [
    {
     "data": {
      "text/html": [
       "<div>\n",
       "<style>\n",
       "    .dataframe thead tr:only-child th {\n",
       "        text-align: right;\n",
       "    }\n",
       "\n",
       "    .dataframe thead th {\n",
       "        text-align: left;\n",
       "    }\n",
       "\n",
       "    .dataframe tbody tr th {\n",
       "        vertical-align: top;\n",
       "    }\n",
       "</style>\n",
       "<table border=\"1\" class=\"dataframe\">\n",
       "  <thead>\n",
       "    <tr style=\"text-align: right;\">\n",
       "      <th></th>\n",
       "      <th>COUNTRY</th>\n",
       "      <th>Country</th>\n",
       "      <th>COMMODITY</th>\n",
       "      <th>Commodity</th>\n",
       "      <th>VARIABLE</th>\n",
       "      <th>Variable</th>\n",
       "      <th>TIME</th>\n",
       "      <th>Time</th>\n",
       "      <th>Value</th>\n",
       "      <th>Flag Codes</th>\n",
       "      <th>Flags</th>\n",
       "    </tr>\n",
       "  </thead>\n",
       "  <tbody>\n",
       "    <tr>\n",
       "      <th>0</th>\n",
       "      <td>OED</td>\n",
       "      <td>OECD countries</td>\n",
       "      <td>WT</td>\n",
       "      <td>Wheat</td>\n",
       "      <td>QP</td>\n",
       "      <td>Production</td>\n",
       "      <td>1994</td>\n",
       "      <td>1994</td>\n",
       "      <td>232327.881048</td>\n",
       "      <td>NaN</td>\n",
       "      <td>NaN</td>\n",
       "    </tr>\n",
       "    <tr>\n",
       "      <th>1</th>\n",
       "      <td>OED</td>\n",
       "      <td>OECD countries</td>\n",
       "      <td>WT</td>\n",
       "      <td>Wheat</td>\n",
       "      <td>QP</td>\n",
       "      <td>Production</td>\n",
       "      <td>1995</td>\n",
       "      <td>1995</td>\n",
       "      <td>245930.181270</td>\n",
       "      <td>NaN</td>\n",
       "      <td>NaN</td>\n",
       "    </tr>\n",
       "    <tr>\n",
       "      <th>2</th>\n",
       "      <td>OED</td>\n",
       "      <td>OECD countries</td>\n",
       "      <td>WT</td>\n",
       "      <td>Wheat</td>\n",
       "      <td>QP</td>\n",
       "      <td>Production</td>\n",
       "      <td>1996</td>\n",
       "      <td>1996</td>\n",
       "      <td>265071.279385</td>\n",
       "      <td>NaN</td>\n",
       "      <td>NaN</td>\n",
       "    </tr>\n",
       "    <tr>\n",
       "      <th>3</th>\n",
       "      <td>OED</td>\n",
       "      <td>OECD countries</td>\n",
       "      <td>WT</td>\n",
       "      <td>Wheat</td>\n",
       "      <td>QP</td>\n",
       "      <td>Production</td>\n",
       "      <td>1997</td>\n",
       "      <td>1997</td>\n",
       "      <td>264589.728929</td>\n",
       "      <td>NaN</td>\n",
       "      <td>NaN</td>\n",
       "    </tr>\n",
       "    <tr>\n",
       "      <th>4</th>\n",
       "      <td>OED</td>\n",
       "      <td>OECD countries</td>\n",
       "      <td>WT</td>\n",
       "      <td>Wheat</td>\n",
       "      <td>QP</td>\n",
       "      <td>Production</td>\n",
       "      <td>1998</td>\n",
       "      <td>1998</td>\n",
       "      <td>278244.877881</td>\n",
       "      <td>NaN</td>\n",
       "      <td>NaN</td>\n",
       "    </tr>\n",
       "  </tbody>\n",
       "</table>\n",
       "</div>"
      ],
      "text/plain": [
       "  COUNTRY         Country COMMODITY Commodity VARIABLE    Variable  TIME  \\\n",
       "0     OED  OECD countries        WT     Wheat       QP  Production  1994   \n",
       "1     OED  OECD countries        WT     Wheat       QP  Production  1995   \n",
       "2     OED  OECD countries        WT     Wheat       QP  Production  1996   \n",
       "3     OED  OECD countries        WT     Wheat       QP  Production  1997   \n",
       "4     OED  OECD countries        WT     Wheat       QP  Production  1998   \n",
       "\n",
       "   Time          Value  Flag Codes  Flags  \n",
       "0  1994  232327.881048         NaN    NaN  \n",
       "1  1995  245930.181270         NaN    NaN  \n",
       "2  1996  265071.279385         NaN    NaN  \n",
       "3  1997  264589.728929         NaN    NaN  \n",
       "4  1998  278244.877881         NaN    NaN  "
      ]
     },
     "execution_count": 17,
     "metadata": {},
     "output_type": "execute_result"
    }
   ],
   "source": [
    "consumption_df.head()"
   ]
  },
  {
   "cell_type": "code",
   "execution_count": 18,
   "metadata": {},
   "outputs": [
    {
     "name": "stdout",
     "output_type": "stream",
     "text": [
      "1990\n",
      "2026\n"
     ]
    }
   ],
   "source": [
    "print min(consumption_df['Time'])\n",
    "print max(consumption_df['Time'])"
   ]
  },
  {
   "cell_type": "code",
   "execution_count": 19,
   "metadata": {},
   "outputs": [
    {
     "data": {
      "text/plain": [
       "array(['OECD countries', 'Australia', 'Canada', 'Chile',\n",
       "       'European Union-28', 'Israel', 'Japan', 'Korea', 'Mexico', 'Norway',\n",
       "       'New Zealand', 'Turkey', 'Switzerland', 'United States', 'WORLD',\n",
       "       'DEVELOPED COUNTRIES', 'NORTH AMERICA', 'EUROPE',\n",
       "       'Russian Federation', 'Ukraine', 'OCEANIA DEVELOPED',\n",
       "       'OTHER DEVELOPED', 'Kazakhstan', 'Republic of South Africa',\n",
       "       'DEVELOPING COUNTRIES', 'AFRICA', 'NORTH AFRICA', 'Algeria',\n",
       "       'Egypt', 'SUB SAHARAN AFRICA', 'Ethiopia', 'Ghana', 'Mozambique',\n",
       "       'Nigeria', 'Sudan', 'Tanzania', 'Zambia',\n",
       "       'LATIN AMERICA AND CARIBBEAN', 'Argentina', 'Brazil', 'Colombia',\n",
       "       'Haiti', 'Peru', 'Paraguay', 'Uruguay', 'ASIA', 'Bangladesh',\n",
       "       'China', 'India', 'Indonesia', 'Iran', 'Malaysia', 'Pakistan',\n",
       "       'Philippines', 'Saudi Arabia', 'Thailand', 'Viet Nam',\n",
       "       'LEAST DEVELOPED COUNTRIES', 'BRICS', 'Non-OECD'], dtype=object)"
      ]
     },
     "execution_count": 19,
     "metadata": {},
     "output_type": "execute_result"
    }
   ],
   "source": [
    "consumption_df['Country'].unique()"
   ]
  },
  {
   "cell_type": "code",
   "execution_count": 20,
   "metadata": {
    "collapsed": true
   },
   "outputs": [],
   "source": [
    "# consumption_df.drop(consumption_df['Country'] not in ['OECD countries', 'NORTH AMERICA', 'DEVELOPED COUNTRIES', 'SUB SAHARAN AFRICA',\n",
    "#                                                       'OTHER DEVELOPED', 'OCEANIA DEVELOPED', 'DEVELOPING COUNTRIES'\n",
    "#                                                      'LATIN AMERICA AND CARIBBEAN','Non-OECD', 'BRICS','LEAST DEVELOPED COUNTRIES','AFRICA'], \n",
    "#                    axis=1)"
   ]
  },
  {
   "cell_type": "code",
   "execution_count": 21,
   "metadata": {},
   "outputs": [
    {
     "name": "stderr",
     "output_type": "stream",
     "text": [
      "/home/maria/anaconda2/lib/python2.7/site-packages/ipykernel/__main__.py:1: UserWarning: Boolean Series key will be reindexed to match DataFrame index.\n",
      "  if __name__ == '__main__':\n"
     ]
    }
   ],
   "source": [
    "ukraine = consumption_df[:][consumption_df['Country']=='Ukraine'][consumption_df['Variable']=='Consumption']"
   ]
  },
  {
   "cell_type": "code",
   "execution_count": 22,
   "metadata": {},
   "outputs": [
    {
     "data": {
      "text/html": [
       "<div>\n",
       "<style>\n",
       "    .dataframe thead tr:only-child th {\n",
       "        text-align: right;\n",
       "    }\n",
       "\n",
       "    .dataframe thead th {\n",
       "        text-align: left;\n",
       "    }\n",
       "\n",
       "    .dataframe tbody tr th {\n",
       "        vertical-align: top;\n",
       "    }\n",
       "</style>\n",
       "<table border=\"1\" class=\"dataframe\">\n",
       "  <thead>\n",
       "    <tr style=\"text-align: right;\">\n",
       "      <th></th>\n",
       "      <th>COUNTRY</th>\n",
       "      <th>Country</th>\n",
       "      <th>COMMODITY</th>\n",
       "      <th>Commodity</th>\n",
       "      <th>VARIABLE</th>\n",
       "      <th>Variable</th>\n",
       "      <th>TIME</th>\n",
       "      <th>Time</th>\n",
       "      <th>Value</th>\n",
       "      <th>Flag Codes</th>\n",
       "      <th>Flags</th>\n",
       "    </tr>\n",
       "  </thead>\n",
       "  <tbody>\n",
       "    <tr>\n",
       "      <th>8777</th>\n",
       "      <td>UKR</td>\n",
       "      <td>Ukraine</td>\n",
       "      <td>WT</td>\n",
       "      <td>Wheat</td>\n",
       "      <td>QC</td>\n",
       "      <td>Consumption</td>\n",
       "      <td>1990</td>\n",
       "      <td>1990</td>\n",
       "      <td>15455.0</td>\n",
       "      <td>NaN</td>\n",
       "      <td>NaN</td>\n",
       "    </tr>\n",
       "    <tr>\n",
       "      <th>8778</th>\n",
       "      <td>UKR</td>\n",
       "      <td>Ukraine</td>\n",
       "      <td>WT</td>\n",
       "      <td>Wheat</td>\n",
       "      <td>QC</td>\n",
       "      <td>Consumption</td>\n",
       "      <td>1991</td>\n",
       "      <td>1991</td>\n",
       "      <td>22155.0</td>\n",
       "      <td>NaN</td>\n",
       "      <td>NaN</td>\n",
       "    </tr>\n",
       "    <tr>\n",
       "      <th>8779</th>\n",
       "      <td>UKR</td>\n",
       "      <td>Ukraine</td>\n",
       "      <td>WT</td>\n",
       "      <td>Wheat</td>\n",
       "      <td>QC</td>\n",
       "      <td>Consumption</td>\n",
       "      <td>1992</td>\n",
       "      <td>1992</td>\n",
       "      <td>21857.0</td>\n",
       "      <td>NaN</td>\n",
       "      <td>NaN</td>\n",
       "    </tr>\n",
       "    <tr>\n",
       "      <th>8780</th>\n",
       "      <td>UKR</td>\n",
       "      <td>Ukraine</td>\n",
       "      <td>WT</td>\n",
       "      <td>Wheat</td>\n",
       "      <td>QC</td>\n",
       "      <td>Consumption</td>\n",
       "      <td>1993</td>\n",
       "      <td>1993</td>\n",
       "      <td>19431.0</td>\n",
       "      <td>NaN</td>\n",
       "      <td>NaN</td>\n",
       "    </tr>\n",
       "    <tr>\n",
       "      <th>8781</th>\n",
       "      <td>UKR</td>\n",
       "      <td>Ukraine</td>\n",
       "      <td>WT</td>\n",
       "      <td>Wheat</td>\n",
       "      <td>QC</td>\n",
       "      <td>Consumption</td>\n",
       "      <td>1994</td>\n",
       "      <td>1994</td>\n",
       "      <td>15687.0</td>\n",
       "      <td>NaN</td>\n",
       "      <td>NaN</td>\n",
       "    </tr>\n",
       "    <tr>\n",
       "      <th>8782</th>\n",
       "      <td>UKR</td>\n",
       "      <td>Ukraine</td>\n",
       "      <td>WT</td>\n",
       "      <td>Wheat</td>\n",
       "      <td>QC</td>\n",
       "      <td>Consumption</td>\n",
       "      <td>1995</td>\n",
       "      <td>1995</td>\n",
       "      <td>16262.0</td>\n",
       "      <td>NaN</td>\n",
       "      <td>NaN</td>\n",
       "    </tr>\n",
       "    <tr>\n",
       "      <th>8783</th>\n",
       "      <td>UKR</td>\n",
       "      <td>Ukraine</td>\n",
       "      <td>WT</td>\n",
       "      <td>Wheat</td>\n",
       "      <td>QC</td>\n",
       "      <td>Consumption</td>\n",
       "      <td>1996</td>\n",
       "      <td>1996</td>\n",
       "      <td>16238.0</td>\n",
       "      <td>NaN</td>\n",
       "      <td>NaN</td>\n",
       "    </tr>\n",
       "    <tr>\n",
       "      <th>8784</th>\n",
       "      <td>UKR</td>\n",
       "      <td>Ukraine</td>\n",
       "      <td>WT</td>\n",
       "      <td>Wheat</td>\n",
       "      <td>QC</td>\n",
       "      <td>Consumption</td>\n",
       "      <td>1997</td>\n",
       "      <td>1997</td>\n",
       "      <td>17551.0</td>\n",
       "      <td>NaN</td>\n",
       "      <td>NaN</td>\n",
       "    </tr>\n",
       "    <tr>\n",
       "      <th>8785</th>\n",
       "      <td>UKR</td>\n",
       "      <td>Ukraine</td>\n",
       "      <td>WT</td>\n",
       "      <td>Wheat</td>\n",
       "      <td>QC</td>\n",
       "      <td>Consumption</td>\n",
       "      <td>1998</td>\n",
       "      <td>1998</td>\n",
       "      <td>14130.0</td>\n",
       "      <td>NaN</td>\n",
       "      <td>NaN</td>\n",
       "    </tr>\n",
       "    <tr>\n",
       "      <th>8786</th>\n",
       "      <td>UKR</td>\n",
       "      <td>Ukraine</td>\n",
       "      <td>WT</td>\n",
       "      <td>Wheat</td>\n",
       "      <td>QC</td>\n",
       "      <td>Consumption</td>\n",
       "      <td>1999</td>\n",
       "      <td>1999</td>\n",
       "      <td>13523.0</td>\n",
       "      <td>NaN</td>\n",
       "      <td>NaN</td>\n",
       "    </tr>\n",
       "  </tbody>\n",
       "</table>\n",
       "</div>"
      ],
      "text/plain": [
       "     COUNTRY  Country COMMODITY Commodity VARIABLE     Variable  TIME  Time  \\\n",
       "8777     UKR  Ukraine        WT     Wheat       QC  Consumption  1990  1990   \n",
       "8778     UKR  Ukraine        WT     Wheat       QC  Consumption  1991  1991   \n",
       "8779     UKR  Ukraine        WT     Wheat       QC  Consumption  1992  1992   \n",
       "8780     UKR  Ukraine        WT     Wheat       QC  Consumption  1993  1993   \n",
       "8781     UKR  Ukraine        WT     Wheat       QC  Consumption  1994  1994   \n",
       "8782     UKR  Ukraine        WT     Wheat       QC  Consumption  1995  1995   \n",
       "8783     UKR  Ukraine        WT     Wheat       QC  Consumption  1996  1996   \n",
       "8784     UKR  Ukraine        WT     Wheat       QC  Consumption  1997  1997   \n",
       "8785     UKR  Ukraine        WT     Wheat       QC  Consumption  1998  1998   \n",
       "8786     UKR  Ukraine        WT     Wheat       QC  Consumption  1999  1999   \n",
       "\n",
       "        Value  Flag Codes  Flags  \n",
       "8777  15455.0         NaN    NaN  \n",
       "8778  22155.0         NaN    NaN  \n",
       "8779  21857.0         NaN    NaN  \n",
       "8780  19431.0         NaN    NaN  \n",
       "8781  15687.0         NaN    NaN  \n",
       "8782  16262.0         NaN    NaN  \n",
       "8783  16238.0         NaN    NaN  \n",
       "8784  17551.0         NaN    NaN  \n",
       "8785  14130.0         NaN    NaN  \n",
       "8786  13523.0         NaN    NaN  "
      ]
     },
     "execution_count": 22,
     "metadata": {},
     "output_type": "execute_result"
    }
   ],
   "source": [
    "ukraine.head(10)"
   ]
  },
  {
   "cell_type": "code",
   "execution_count": 23,
   "metadata": {},
   "outputs": [
    {
     "data": {
      "text/plain": [
       "array(['Wheat', 'Maize', 'Rice', \"Distiller's dry grains\", 'Soybean',\n",
       "       'Other oilseeds', 'Protein meals', 'Vegetable oils', 'Molasses',\n",
       "       'Sugar (tq)', 'High fructose corn syrup', 'Beef and veal (cwe)',\n",
       "       'Pigmeat (cwe)', 'Poultry meat (rtc)', 'Sheepmeat(cwe)',\n",
       "       'Fresh dairy products', 'Butter (pw)', 'Cheese (pw)',\n",
       "       'Skim milk powder (pw)', 'Whole milk powder (pw)',\n",
       "       'Whey powder (pw)', 'Ethanol', 'Biodiesel', 'Fish', 'Fish meal',\n",
       "       'Fish oil', 'COTTON', 'ROOTS AND TUBERS', 'Other coarse grains'], dtype=object)"
      ]
     },
     "execution_count": 23,
     "metadata": {},
     "output_type": "execute_result"
    }
   ],
   "source": [
    "ukraine['Commodity'].unique()"
   ]
  },
  {
   "cell_type": "code",
   "execution_count": 24,
   "metadata": {},
   "outputs": [
    {
     "data": {
      "text/html": [
       "<div>\n",
       "<style>\n",
       "    .dataframe thead tr:only-child th {\n",
       "        text-align: right;\n",
       "    }\n",
       "\n",
       "    .dataframe thead th {\n",
       "        text-align: left;\n",
       "    }\n",
       "\n",
       "    .dataframe tbody tr th {\n",
       "        vertical-align: top;\n",
       "    }\n",
       "</style>\n",
       "<table border=\"1\" class=\"dataframe\">\n",
       "  <thead>\n",
       "    <tr style=\"text-align: right;\">\n",
       "      <th></th>\n",
       "      <th>COUNTRY</th>\n",
       "      <th>Country</th>\n",
       "      <th>COMMODITY</th>\n",
       "      <th>Commodity</th>\n",
       "      <th>VARIABLE</th>\n",
       "      <th>Variable</th>\n",
       "      <th>TIME</th>\n",
       "      <th>Time</th>\n",
       "      <th>Value</th>\n",
       "      <th>Flag Codes</th>\n",
       "      <th>Flags</th>\n",
       "    </tr>\n",
       "  </thead>\n",
       "  <tbody>\n",
       "    <tr>\n",
       "      <th>463180</th>\n",
       "      <td>GHA</td>\n",
       "      <td>Ghana</td>\n",
       "      <td>FL</td>\n",
       "      <td>Fish oil</td>\n",
       "      <td>QC</td>\n",
       "      <td>Consumption</td>\n",
       "      <td>2008</td>\n",
       "      <td>2008</td>\n",
       "      <td>-0.021</td>\n",
       "      <td>NaN</td>\n",
       "      <td>NaN</td>\n",
       "    </tr>\n",
       "  </tbody>\n",
       "</table>\n",
       "</div>"
      ],
      "text/plain": [
       "       COUNTRY Country COMMODITY Commodity VARIABLE     Variable  TIME  Time  \\\n",
       "463180     GHA   Ghana        FL  Fish oil       QC  Consumption  2008  2008   \n",
       "\n",
       "        Value  Flag Codes  Flags  \n",
       "463180 -0.021         NaN    NaN  "
      ]
     },
     "execution_count": 24,
     "metadata": {},
     "output_type": "execute_result"
    }
   ],
   "source": [
    "consumption_df.loc[[463180]]"
   ]
  },
  {
   "cell_type": "code",
   "execution_count": 25,
   "metadata": {},
   "outputs": [
    {
     "data": {
      "text/plain": [
       "61783"
      ]
     },
     "execution_count": 25,
     "metadata": {},
     "output_type": "execute_result"
    }
   ],
   "source": [
    "len(consumption_df['Value'][consumption_df['Variable']=='Consumption'])"
   ]
  },
  {
   "cell_type": "code",
   "execution_count": 26,
   "metadata": {
    "collapsed": true
   },
   "outputs": [],
   "source": [
    "ukraine['Value'] = ukraine['Value'].apply(lambda x: x/1000)"
   ]
  },
  {
   "cell_type": "code",
   "execution_count": 27,
   "metadata": {},
   "outputs": [
    {
     "data": {
      "text/plain": [
       "8777    15.455\n",
       "8778    22.155\n",
       "8779    21.857\n",
       "8780    19.431\n",
       "8781    15.687\n",
       "Name: Value, dtype: float64"
      ]
     },
     "execution_count": 27,
     "metadata": {},
     "output_type": "execute_result"
    }
   ],
   "source": [
    "ukraine['Value'].head()"
   ]
  },
  {
   "cell_type": "code",
   "execution_count": 28,
   "metadata": {
    "collapsed": true
   },
   "outputs": [],
   "source": [
    "ukraine = ukraine[:][ukraine['Time']<2017]"
   ]
  },
  {
   "cell_type": "code",
   "execution_count": 29,
   "metadata": {},
   "outputs": [
    {
     "data": {
      "text/plain": [
       "<matplotlib.axes._subplots.AxesSubplot at 0x7fd3e07c9890>"
      ]
     },
     "execution_count": 29,
     "metadata": {},
     "output_type": "execute_result"
    },
    {
     "data": {
      "image/png": "[encoded data removed]",
      "text/plain": [
       "<matplotlib.figure.Figure at 0x7fd3e0ff6ad0>"
      ]
     },
     "metadata": {},
     "output_type": "display_data"
    }
   ],
   "source": [
    "ukraine[['Time', 'Value']].groupby('Time').sum().plot()"
   ]
  },
  {
   "cell_type": "code",
   "execution_count": 30,
   "metadata": {},
   "outputs": [
    {
     "data": {
      "text/html": [
       "<div>\n",
       "<style>\n",
       "    .dataframe thead tr:only-child th {\n",
       "        text-align: right;\n",
       "    }\n",
       "\n",
       "    .dataframe thead th {\n",
       "        text-align: left;\n",
       "    }\n",
       "\n",
       "    .dataframe tbody tr th {\n",
       "        vertical-align: top;\n",
       "    }\n",
       "</style>\n",
       "<table border=\"1\" class=\"dataframe\">\n",
       "  <thead>\n",
       "    <tr style=\"text-align: right;\">\n",
       "      <th></th>\n",
       "      <th>Value</th>\n",
       "      <th>Time</th>\n",
       "    </tr>\n",
       "  </thead>\n",
       "  <tbody>\n",
       "    <tr>\n",
       "      <th>8777</th>\n",
       "      <td>15.455</td>\n",
       "      <td>1990</td>\n",
       "    </tr>\n",
       "    <tr>\n",
       "      <th>8778</th>\n",
       "      <td>22.155</td>\n",
       "      <td>1991</td>\n",
       "    </tr>\n",
       "    <tr>\n",
       "      <th>8779</th>\n",
       "      <td>21.857</td>\n",
       "      <td>1992</td>\n",
       "    </tr>\n",
       "    <tr>\n",
       "      <th>8780</th>\n",
       "      <td>19.431</td>\n",
       "      <td>1993</td>\n",
       "    </tr>\n",
       "    <tr>\n",
       "      <th>8781</th>\n",
       "      <td>15.687</td>\n",
       "      <td>1994</td>\n",
       "    </tr>\n",
       "  </tbody>\n",
       "</table>\n",
       "</div>"
      ],
      "text/plain": [
       "       Value  Time\n",
       "8777  15.455  1990\n",
       "8778  22.155  1991\n",
       "8779  21.857  1992\n",
       "8780  19.431  1993\n",
       "8781  15.687  1994"
      ]
     },
     "execution_count": 30,
     "metadata": {},
     "output_type": "execute_result"
    }
   ],
   "source": [
    "ukraine[['Value', 'Time']][ukraine['Commodity']=='Wheat'].head()"
   ]
  },
  {
   "cell_type": "code",
   "execution_count": 31,
   "metadata": {},
   "outputs": [
    {
     "data": {
      "text/plain": [
       "<matplotlib.legend.Legend at 0x7fd3e07ba1d0>"
      ]
     },
     "execution_count": 31,
     "metadata": {},
     "output_type": "execute_result"
    },
    {
     "data": {
      "image/png": "[encoded data removed]",
      "text/plain": [
       "<matplotlib.figure.Figure at 0x7fd3e07ed210>"
      ]
     },
     "metadata": {},
     "output_type": "display_data"
    }
   ],
   "source": [
    "wheat = mpatches.Patch(color='blue', label='Wheat')\n",
    "\n",
    "plt = ukraine[['Value', 'Time']][ukraine['Commodity']=='Wheat'].groupby('Time').sum().plot()\n",
    "plt.legend(handles=[wheat])"
   ]
  },
  {
   "cell_type": "code",
   "execution_count": 32,
   "metadata": {},
   "outputs": [
    {
     "name": "stderr",
     "output_type": "stream",
     "text": [
      "/home/maria/anaconda2/lib/python2.7/site-packages/ipykernel/__main__.py:1: UserWarning: Boolean Series key will be reindexed to match DataFrame index.\n",
      "  if __name__ == '__main__':\n"
     ]
    },
    {
     "data": {
      "text/plain": [
       "(995, 11)"
      ]
     },
     "execution_count": 32,
     "metadata": {},
     "output_type": "execute_result"
    }
   ],
   "source": [
    "china =  consumption_df[:][consumption_df['Country']=='China'][consumption_df['Variable']=='Consumption']\n",
    "china.shape"
   ]
  },
  {
   "cell_type": "code",
   "execution_count": 33,
   "metadata": {
    "collapsed": true
   },
   "outputs": [],
   "source": [
    "china['Value'] = china['Value'].apply(lambda x: x/1000)"
   ]
  },
  {
   "cell_type": "code",
   "execution_count": 34,
   "metadata": {},
   "outputs": [
    {
     "data": {
      "text/plain": [
       "<matplotlib.axes._subplots.AxesSubplot at 0x7fd3e06a2310>"
      ]
     },
     "execution_count": 34,
     "metadata": {},
     "output_type": "execute_result"
    },
    {
     "data": {
      "image/png": "[encoded data removed]",
      "text/plain": [
       "<matplotlib.figure.Figure at 0x7fd3e063e550>"
      ]
     },
     "metadata": {},
     "output_type": "display_data"
    }
   ],
   "source": [
    "china[['Time', 'Value']].groupby('Time').sum().plot()"
   ]
  },
  {
   "cell_type": "code",
   "execution_count": 35,
   "metadata": {},
   "outputs": [
    {
     "name": "stderr",
     "output_type": "stream",
     "text": [
      "/home/maria/anaconda2/lib/python2.7/site-packages/ipykernel/__main__.py:1: UserWarning: Boolean Series key will be reindexed to match DataFrame index.\n",
      "  if __name__ == '__main__':\n"
     ]
    }
   ],
   "source": [
    "canada = consumption_df[:][consumption_df['Country']=='Canada'][consumption_df['Commodity']=='Wheat'][consumption_df['Variable']=='Consumption']"
   ]
  },
  {
   "cell_type": "code",
   "execution_count": 36,
   "metadata": {
    "collapsed": true
   },
   "outputs": [],
   "source": [
    "canada['Value'] = canada['Value'].apply(lambda x: x/1000)"
   ]
  },
  {
   "cell_type": "code",
   "execution_count": 37,
   "metadata": {},
   "outputs": [
    {
     "data": {
      "text/plain": [
       "<matplotlib.axes._subplots.AxesSubplot at 0x7fd3e05d9310>"
      ]
     },
     "execution_count": 37,
     "metadata": {},
     "output_type": "execute_result"
    },
    {
     "data": {
      "image/png": "[encoded data removed]",
      "text/plain": [
       "<matplotlib.figure.Figure at 0x7fd3e057b550>"
      ]
     },
     "metadata": {},
     "output_type": "display_data"
    }
   ],
   "source": [
    "canada[['Time', 'Value']].groupby('Time').sum().plot()"
   ]
  },
  {
   "cell_type": "code",
   "execution_count": 38,
   "metadata": {},
   "outputs": [
    {
     "data": {
      "text/plain": [
       "Wheat                       28569\n",
       "Maize                       28549\n",
       "Other coarse grains         28494\n",
       "Soybean                     28118\n",
       "Other oilseeds              28030\n",
       "ROOTS AND TUBERS            27766\n",
       "Rice                        26849\n",
       "Vegetable oils              21793\n",
       "Beef and veal (cwe)         20339\n",
       "Molasses                    19294\n",
       "Sheepmeat(cwe)              18161\n",
       "Poultry meat (rtc)          18134\n",
       "Pigmeat (cwe)               18059\n",
       "Skim milk powder (pw)       17900\n",
       "COTTON                      17849\n",
       "Fish                        17658\n",
       "Sugar (tq)                  17198\n",
       "Ethanol                     16873\n",
       "Whole milk powder (pw)      15981\n",
       "Cheese (pw)                 15945\n",
       "Butter (pw)                 15838\n",
       "High fructose corn syrup    15550\n",
       "Protein meals               15487\n",
       "Fish meal                   14115\n",
       "Biodiesel                   13842\n",
       "Distiller's dry grains      13635\n",
       "Whey powder (pw)            12926\n",
       "Fish oil                    12208\n",
       "Fresh dairy products         9288\n",
       "Milk                         9084\n",
       "Sugar cane                   8336\n",
       "Sugar beet                   6848\n",
       "White sugar (tq)             6728\n",
       "Raw sugar (tq)               6720\n",
       "Fish from aquaculture        4156\n",
       "Casein (pw)                  2953\n",
       "Fish from capture            1776\n",
       "Fertilizer                     94\n",
       "Oil                            94\n",
       "Name: Commodity, dtype: int64"
      ]
     },
     "execution_count": 38,
     "metadata": {},
     "output_type": "execute_result"
    }
   ],
   "source": [
    "consumption_df.Commodity.value_counts()"
   ]
  },
  {
   "cell_type": "code",
   "execution_count": null,
   "metadata": {
    "collapsed": true
   },
   "outputs": [],
   "source": []
  }
 ],
 "metadata": {
  "kernelspec": {
   "display_name": "Python 2",
   "language": "python",
   "name": "python2"
  },
  "language_info": {
   "codemirror_mode": {
    "name": "ipython",
    "version": 2
   },
   "file_extension": ".py",
   "mimetype": "text/x-python",
   "name": "python",
   "nbconvert_exporter": "python",
   "pygments_lexer": "ipython2",
   "version": "2.7.13"
  }
 },
 "nbformat": 4,
 "nbformat_minor": 2
}

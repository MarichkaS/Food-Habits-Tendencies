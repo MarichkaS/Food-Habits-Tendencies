{
 "cells": [
  {
   "cell_type": "code",
   "execution_count": 1,
   "metadata": {
    "collapsed": true
   },
   "outputs": [],
   "source": [
    "%matplotlib inline\n",
    "import pandas as pd\n",
    "import numpy as np\n",
    "\n",
    "from sklearn.decomposition import PCA\n",
    "from sklearn.manifold import TSNE\n",
    "\n",
    "import matplotlib.pyplot as plt"
   ]
  },
  {
   "cell_type": "code",
   "execution_count": 2,
   "metadata": {
    "collapsed": true
   },
   "outputs": [],
   "source": [
    "font = {'family' : 'normal',\n",
    "        'weight' : 'bold',\n",
    "        'size'   : 10}\n",
    "plt.rc('font', **font)\n",
    "# Setting plotting parameters\n",
    "cm = plt.cm.get_cmap('RdYlBu')\n",
    "plt.rcParams['figure.figsize'] = (35.0, 25.0)"
   ]
  },
  {
   "cell_type": "code",
   "execution_count": 3,
   "metadata": {
    "collapsed": true
   },
   "outputs": [],
   "source": [
    "DATA_FOLDER = '../data/clustering-results-kmeans/'\n",
    "DATA_FILE = 'Data{}_{}.csv'\n",
    "CLUSTERS_FILE = 'Clusters{}_{}.csv'\n",
    "YEAR = 2010"
   ]
  },
  {
   "cell_type": "code",
   "execution_count": 4,
   "metadata": {},
   "outputs": [],
   "source": [
    "# Read data\n",
    "data_file = DATA_FOLDER + DATA_FILE.format(YEAR - 2, YEAR)\n",
    "clusters_file = DATA_FOLDER + CLUSTERS_FILE.format(YEAR - 2, YEAR)\n",
    "\n",
    "data = pd.read_csv(data_file)\n",
    "countries = pd.read_csv(clusters_file)"
   ]
  },
  {
   "cell_type": "code",
   "execution_count": 5,
   "metadata": {
    "collapsed": true,
    "scrolled": true
   },
   "outputs": [],
   "source": [
    "# Remove the last row (EU)\n",
    "countries = countries[:-1]\n",
    "\n",
    "# Convert cluster to integer (don't know why it's float in that file)\n",
    "countries['cluster'] = countries['cluster'].astype(int)"
   ]
  },
  {
   "cell_type": "code",
   "execution_count": 6,
   "metadata": {
    "collapsed": true
   },
   "outputs": [],
   "source": [
    "def plot_clusters(countries, points):\n",
    "    plt.scatter(points[:,0], points[:,1], s=70)\n",
    "    \n",
    "    for i, country in countries.iterrows():\n",
    "        color = palette[country.cluster]\n",
    "        \n",
    "        plt.annotate(\n",
    "            country['index'],\n",
    "            points[i],\n",
    "            bbox=dict(boxstyle='round,pad=0.8', color=color))"
   ]
  },
  {
   "cell_type": "code",
   "execution_count": 7,
   "metadata": {
    "scrolled": true
   },
   "outputs": [],
   "source": [
    "all_data = pd.read_csv('../data/dataset/big_df.csv')\n",
    "indeces = all_data['Unnamed: 0']\n",
    "\n",
    "temp_periods_indeces = []\n",
    "temp_periods_databody = []\n",
    "titles = pd.unique(all_data[\"Unnamed: 0\"].apply(lambda s: s[4:]));\n",
    "for y in pd.unique(all_data[\"Unnamed: 0\"].apply(lambda s: s[4:])):\n",
    "    df_temp = pd.DataFrame(all_data[all_data[\"Unnamed: 0\"].apply(lambda s: s[4:] == y)])\n",
    "    df_temp[\"Unnamed: 0\"] = all_data[\"Unnamed: 0\"].apply(lambda s: s[:3])\n",
    "    temp_periods_indeces.append(df_temp[\"Unnamed: 0\"])\n",
    "    temp_periods_databody.append(df_temp.loc[:, df_temp.columns != \"Unnamed: 0\"])\n",
    "    \n",
    "    \n",
    "# temp_periods_indeces[0]\n",
    "\n",
    "\n",
    "del all_data[\"Unnamed: 0\"]\n"
   ]
  },
  {
   "cell_type": "code",
   "execution_count": 8,
   "metadata": {
    "collapsed": true,
    "scrolled": true
   },
   "outputs": [],
   "source": [
    "pca = PCA(n_components=2, svd_solver=\"full\")\n",
    "\n",
    "pca_fitted = pca.fit(np.array(all_data))\n",
    "projected = pca.transform(np.array(all_data))\n",
    "projected_periods = []\n",
    "for el in temp_periods_databody:\n",
    "    projected_periods.append(pca.transform(np.array(el)))\n",
    "# old = pca.transform(np.array(temp_periods_databody[0]))\n",
    "# projected = pca.fit_transform(np.array(all_data))\n"
   ]
  },
  {
   "cell_type": "code",
   "execution_count": 9,
   "metadata": {
    "scrolled": true
   },
   "outputs": [
    {
     "data": {
      "text/plain": [
       "<matplotlib.figure.Figure at 0x7f82cf6f5828>"
      ]
     },
     "metadata": {},
     "output_type": "display_data"
    }
   ],
   "source": [
    "# plt.scatter(projected[:,0], projected[:,1], s=70, cmap = cm)\n",
    "# for i, txt in enumerate(np.array(indeces)):\n",
    "#     plt.annotate(txt, (projected[i]), fontsize= 30, bbox=dict(boxstyle='round,pad=0.6', fc='orange', alpha=0.8))\n",
    "# plt.title(titles[8],fontsize= 30)\n",
    "# plt.savefig('foo1.pdf')\n",
    "\n",
    "\n",
    "for p in range (len(projected_periods)):\n",
    "    \n",
    "    plt.scatter(projected_periods[p][:,0], projected_periods[p][:,1], s=70, cmap = cm)\n",
    "    for i, txt in enumerate(np.array(temp_periods_indeces[p])):\n",
    "        plt.annotate(txt, (projected_periods[p][i]), fontsize= 20,  bbox=dict(boxstyle='round,pad=0.6', fc='orange', alpha=0.8))\n",
    "    plt.title(titles[p],fontsize= 50)\n",
    "    # plt.savefig('partFoo' + str(p) + '.pdf')\n",
    "    plt.clf()\n",
    "    \n"
   ]
  },
  {
   "cell_type": "code",
   "execution_count": null,
   "metadata": {
    "collapsed": true
   },
   "outputs": [],
   "source": []
  }
 ],
 "metadata": {
  "kernelspec": {
   "display_name": "Python 3",
   "language": "python",
   "name": "python3"
  },
  "language_info": {
   "codemirror_mode": {
    "name": "ipython",
    "version": 3
   },
   "file_extension": ".py",
   "mimetype": "text/x-python",
   "name": "python",
   "nbconvert_exporter": "python",
   "pygments_lexer": "ipython3",
   "version": "3.6.2"
  }
 },
 "nbformat": 4,
 "nbformat_minor": 2
}
